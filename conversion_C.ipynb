{
  "cells": [
    {
      "cell_type": "markdown",
      "metadata": {
        "id": "gr5AUPMipt0x"
      },
      "source": [
        "# Estimation of conversion factor C\n",
        "### Code for content of Chapter 2"
      ]
    },
    {
      "cell_type": "code",
      "execution_count": null,
      "metadata": {
        "id": "hxl9RDoXpt00"
      },
      "outputs": [],
      "source": [
        "# load packages\n",
        "import warnings\n",
        "warnings.filterwarnings(\"ignore\")\n",
        "import pandas as pd\n",
        "import numpy as np\n",
        "import matplotlib.pyplot as plt\n",
        "import seaborn as sns\n",
        "from sklearn.metrics import r2_score, mean_absolute_percentage_error as mape\n",
        "from pyarrow import feather as pq\n",
        "import geopandas as gpd\n",
        "import folium\n",
        "from folium import Marker\n",
        "from shapely import geometry\n",
        "from tqdm import tqdm\n",
        "pd.set_option('display.max_columns', None)\n",
        "from ipywidgets import interact\n",
        "from IPython.display import display\n",
        "import ipywidgets as widgets\n",
        "from pyarrow import feather as pq"
      ]
    },
    {
      "cell_type": "code",
      "execution_count": null,
      "metadata": {
        "id": "g9Cnqd1Hpt03"
      },
      "outputs": [],
      "source": [
        "from google.colab import drive\n",
        "drive.mount(\"/content/gdrive\")\n",
        "# load data for monthly performance\n",
        "data = pd.read_csv(\"/content/gdrive/MyDrive/Aurora_Thesis/data_converted.csv\")"
      ]
    },
    {
      "cell_type": "code",
      "execution_count": null,
      "metadata": {
        "id": "Dir8CmOSpt03"
      },
      "outputs": [],
      "source": [
        "# find overlap\n",
        "# SAME STATION AND TIME, BUT DIFFERENT DATASET\n",
        "data_oa = data.loc[data.OAtot_PMF.isnull() == False,:]\n",
        "data_oc = data.loc[data.OC_PMF.isnull() == False,:]\n",
        "\n",
        "# first check which stations overlap\n",
        "station_overlap = []\n",
        "\n",
        "for i in data_oa.station.unique():\n",
        "    if i in data_oc.station.unique():\n",
        "        station_overlap.append(i)\n",
        "print(station_overlap)"
      ]
    },
    {
      "cell_type": "code",
      "execution_count": null,
      "metadata": {
        "id": "2MwUbaHCpt05"
      },
      "outputs": [],
      "source": [
        "# count overlap\n",
        "def overlap(station_name):\n",
        "    count = 0\n",
        "    for i in data_oa.loc[data_oa.station == station_name,\"time\"].unique():\n",
        "        if i in data_oc.loc[data_oc.station == station_name,\"time\"].unique():\n",
        "            count += 1\n",
        "    return count"
      ]
    },
    {
      "cell_type": "code",
      "execution_count": null,
      "metadata": {
        "id": "bJMoRRA-pt05"
      },
      "outputs": [],
      "source": [
        "print(\"Overlap in Melpitz: \", overlap(\"Melpitz\"))\n",
        "print(\"Overlap in Montesec: \", overlap(\"Montesec\"))\n",
        "print(\"Overlap in Finokalia: \", overlap(\"Finokalia\"))\n",
        "print(\"Overlap in Zurich: \", overlap(\"Zurich\"))\n",
        "print(\"Overlap in Tartu: \", overlap(\"Tartu\"))\n",
        "print(\"Overlap in Hyytiälä: \", overlap(\"Hyytiälä\"))\n",
        "print(\"Overlap in Barcelona: \", overlap(\"Barcelona\"))"
      ]
    },
    {
      "cell_type": "code",
      "execution_count": null,
      "metadata": {
        "id": "BXlTBy-3pt05"
      },
      "outputs": [],
      "source": [
        "# get overlap\n",
        "def get_over(station_name):\n",
        "    tim = []\n",
        "    for i in data_oa.loc[data_oa.station == station_name, \"time\"].unique():\n",
        "        if i in data_oc.loc[data_oc.station == station_name, \"time\"].unique():\n",
        "            tim.append(i)\n",
        "\n",
        "    get_data_oa = []\n",
        "    get_data_oc = []\n",
        "    station_oa = data_oa.loc[data_oa.station == station_name,:]\n",
        "    station_oc = data_oc.loc[data_oc.station == station_name,:]\n",
        "    for i in tim:\n",
        "            get_data_oa.append(station_oa.loc[station_oa.time == i, \"OAtot_PMF\"])\n",
        "            get_data_oc.append(station_oc.loc[station_oc.time == i, \"OC_PMF\"].iloc[0])\n",
        "\n",
        "    return np.array(get_data_oa, dtype= \"float\"), np.array(get_data_oc, dtype = \"float\"), tim"
      ]
    },
    {
      "cell_type": "code",
      "execution_count": null,
      "metadata": {
        "id": "XMC8y_1Mpt06"
      },
      "outputs": [],
      "source": [
        "# get overlap for Melpitz\n",
        "mel_oa, mel_oc, mel_time = get_over(\"Melpitz\")\n",
        "mel_oc = mel_oc.reshape(227,1)"
      ]
    },
    {
      "cell_type": "code",
      "execution_count": null,
      "metadata": {
        "id": "KiMm0M1Lpt07"
      },
      "outputs": [],
      "source": [
        "# Plot for Melptiz\n",
        "sns.set_style(\"whitegrid\")\n",
        "plt.figure(figsize = (16,9))\n",
        "plt.plot(mel_time, mel_oa, label = \"OA\")\n",
        "plt.plot(mel_time, mel_oc, label = \"OC\", color = \"red\")\n",
        "plt.legend()\n",
        "plt.title(\"Melpitz\", fontsize = 24)\n",
        "plt.xticks(fontsize = 18, rotation = 45)\n",
        "plt.ylabel(\"OA/OC\", fontsize = 20)\n",
        "plt.yticks(fontsize = 18)\n",
        "plt.legend(loc='upper center', bbox_to_anchor=(0.5, -0.175), fancybox=True, shadow=True, ncol=5, fontsize = 18)"
      ]
    },
    {
      "cell_type": "code",
      "execution_count": null,
      "metadata": {
        "id": "IFciYg6Fpt07"
      },
      "outputs": [],
      "source": [
        "# get Barcelona data\n",
        "bar_oa, bar_oc, time_bar = get_over(\"Barcelona\")\n",
        "# Plot for Barcelona\n",
        "plt.figure(figsize = (16,9))\n",
        "plt.plot(time_bar, bar_oa, label = \"OA\")\n",
        "plt.plot(time_bar, bar_oc, label = \"OC\", color = \"red\")\n",
        "plt.legend()\n",
        "plt.title(\"Barcelona\")\n",
        "plt.xticks(rotation = 45)"
      ]
    },
    {
      "cell_type": "code",
      "execution_count": null,
      "metadata": {
        "id": "rUK6FRbFpt08"
      },
      "outputs": [],
      "source": [
        "# Melpitz Ratios\n",
        "plt.figure(figsize=(16,9))\n",
        "plt.plot(mel_time,  mel_oa / mel_oc, color = \"black\" )\n",
        "plt.xticks(rotation = 45)\n",
        "plt.ylabel(\"C\")\n",
        "plt.title(\"OA/OC in Melpitz\")"
      ]
    },
    {
      "cell_type": "code",
      "execution_count": null,
      "metadata": {
        "id": "zYUFi6VWpt08"
      },
      "outputs": [],
      "source": [
        "# change point detection\n",
        "#!pip install ruptures\n",
        "import ruptures as rpt\n",
        "\n",
        "# Define signal\n",
        "signal = mel_oa/mel_oc\n",
        "# detection\n",
        "algo = rpt.Pelt(model=\"l2\").fit(signal) # fit method\n",
        "result = algo.predict(pen=5) # predict\n",
        "# \"l1\", \"l2\", \"normal\", \"rbf\", \"linear\",\n",
        "algo = rpt.Dynp(model=\"rbf\").fit(signal) # fit method\n",
        "result = algo.predict(2) # predict\n",
        "\n",
        "# display\n",
        "rpt.display(signal, result)\n",
        "#plt.show()\n",
        "print(\"Break-point\", result)\n",
        "print(\"start\", mel_time[result[0]])\n",
        "print(\"end\", mel_time[result[1]])\n",
        "print(\"length\", mel_time[result[1]] - mel_time[result[0]] )\n"
      ]
    },
    {
      "cell_type": "code",
      "execution_count": null,
      "metadata": {
        "id": "2_8u-JxEpt09"
      },
      "outputs": [],
      "source": [
        "# estimate C with 2 change points\n",
        "c_1 = (mel_oa[20:45]/mel_oc[20:45]).mean()\n",
        "c_2 = np.concatenate((signal[:20],signal[45:])).mean()\n",
        "print(\"Winter C\", c_1)\n",
        "print(\"Other season C\", c_2)"
      ]
    },
    {
      "cell_type": "code",
      "execution_count": null,
      "metadata": {
        "id": "L9Mz4lL5pt0-"
      },
      "outputs": [],
      "source": [
        "# repeat with only one change point\n",
        "# \"l1\", \"l2\", \"normal\", \"rbf\", \"linear\",\n",
        "algo = rpt.Dynp(model=\"l2\").fit(signal) # fit method\n",
        "result = algo.predict(1) # predict\n",
        "\n",
        "# display\n",
        "rpt.display(signal, result)\n",
        "#plt.show()\n",
        "print(\"Break-point\", result)\n",
        "print(\"Break-point Day\", mel_time[result[0]])"
      ]
    },
    {
      "cell_type": "code",
      "execution_count": null,
      "metadata": {
        "id": "MCWOpmvPpt0-"
      },
      "outputs": [],
      "source": [
        "# Global estimate from 1st of March, i.e. only one change point\n",
        "c_global = (mel_oa[55:]/mel_oc[55:]).mean()\n",
        "print(\"Global Conversion Factor\", c_global)\n",
        "print(\"First Part\", (mel_oa[:55]/mel_oc[:55]).mean())\n",
        "\n",
        "# Melpitz Ratios used to estimate global C\n",
        "plt.figure(figsize=(16,9))\n",
        "plt.plot(mel_time[55:],  mel_oa[55:] / mel_oc[55:], color = \"black\" )\n",
        "plt.xticks(rotation = 45)\n",
        "plt.ylabel(\"C\")\n",
        "plt.title(\"OA/OC in Melpitz\")"
      ]
    },
    {
      "cell_type": "code",
      "execution_count": null,
      "metadata": {
        "id": "E4u7sDfgpt0-"
      },
      "outputs": [],
      "source": [
        "# Block Bootstrap\n",
        "signal = mel_oa[55:]/mel_oc[55:]\n",
        "\n",
        "# import test to check for stationarity, if unit root then not stationary\n",
        "from statsmodels.tsa.stattools import adfuller\n",
        "print(\"P-value for Ratios\",adfuller(signal)[1]) # --> stationary!"
      ]
    },
    {
      "cell_type": "code",
      "execution_count": null,
      "metadata": {
        "id": "vMKuwdW9pt1A"
      },
      "outputs": [],
      "source": [
        "# Estimate optimal block length\n",
        "from arch.bootstrap import optimal_block_length\n",
        "print(optimal_block_length(signal))"
      ]
    },
    {
      "cell_type": "code",
      "execution_count": null,
      "metadata": {
        "id": "UN38ttD4pt1A"
      },
      "outputs": [],
      "source": [
        "# BLOCK BOOTSTRAP USING PACKAGE\n",
        "#!pip install arch\n",
        "import arch\n",
        "from arch.bootstrap import CircularBlockBootstrap, StationaryBootstrap\n",
        "\n",
        "# block length [ T^(1/3) ]\n",
        "l =  5\n",
        "bs = CircularBlockBootstrap(l, signal) # Have to set a random state\n",
        "c = []\n",
        "for idx, data in tqdm(enumerate(bs.bootstrap(500))):\n",
        "    c_s = data[0][0]\n",
        "    #print(c_s.shape)\n",
        "    #print(c_s.mean())\n",
        "    c.append(c_s.mean())\n",
        "var_bb = np.array(c).var()\n",
        "print(var_bb)"
      ]
    },
    {
      "cell_type": "code",
      "execution_count": null,
      "metadata": {
        "id": "SPnhiv0qpt1B"
      },
      "outputs": [],
      "source": [
        "# Wald type CI\n",
        "lower_bb = c_global - 2*np.sqrt(var_bb)\n",
        "upper_bb = c_global + 2*np.sqrt(var_bb)\n",
        "print(\"Wald Type Confidence Interval: \", lower_bb, upper_bb)"
      ]
    },
    {
      "cell_type": "code",
      "execution_count": null,
      "metadata": {
        "id": "w_4chsslpt1B"
      },
      "outputs": [],
      "source": [
        "# Check reconstruction\n",
        "def plot_reconstruction(station_name):\n",
        "\n",
        "    plt.figure(figsize = (16,9))\n",
        "    station = data.loc[(data.station == station_name) & (data.OC_PMF.isnull()==False),:]\n",
        "\n",
        "    plt.plot(station.time, station.OC_PMF * 1.52, label = \"Reconstructed OA\")\n",
        "    plt.plot(station.time, station.OC_PMF, label = \"OC\", color = \"red\")\n",
        "    plt.plot(station.time, station.OAtot_CAMX, label = \"CAMx OA\", color = \"orange\")\n",
        "    plt.title(station_name, fontsize = 24)\n",
        "    plt.xticks(fontsize = 18, rotation = 45)\n",
        "    plt.ylabel(\"OA/OC\", fontsize = 20)\n",
        "    plt.yticks(fontsize = 18)\n",
        "    plt.legend(loc='upper center', bbox_to_anchor=(0.5, -0.175), fancybox=True, shadow=True, ncol=5, fontsize = 24)\n",
        "    plt.xticks(rotation = 45)\n",
        ""
      ]
    },
    {
      "cell_type": "code",
      "execution_count": null,
      "metadata": {
        "id": "BMlRifOzpt1B"
      },
      "outputs": [],
      "source": [
        "interact(plot_reconstruction, station_name = data.station.unique())"
      ]
    },
    {
      "cell_type": "code",
      "execution_count": null,
      "metadata": {
        "id": "Irft_9Idpt1C"
      },
      "outputs": [],
      "source": [
        "plt.figure(figsize = (16,9))\n",
        "    station = data.loc[(data.station == station_name) & (data.OC_PMF.isnull()==False),:]\n",
        "\n",
        "    plt.plot(station.time, station.OC_PMF * 1.52, label = \"Reconstructed OA\")\n",
        "    plt.plot(station.time, station.OC_PMF, label = \"OC\", color = \"red\")\n",
        "    plt.plot(station.time, station.OAtot_CAMX, label = \"CAMx OA\", color = \"orange\")\n",
        "    plt.title(station_name, fontsize = 24)\n",
        "    plt.xticks(fontsize = 18, rotation = 45)\n",
        "    plt.ylabel(\"OA/OC\", fontsize = 20)\n",
        "    plt.yticks(fontsize = 18)\n",
        "    plt.legend(loc='upper center', bbox_to_anchor=(0.5, -0.175), fancybox=True, shadow=True, ncol=5, fontsize = 18)\n",
        "    plt.xticks(rotation = 45)"
      ]
    }
  ],
  "metadata": {
    "kernelspec": {
      "display_name": "IML",
      "language": "python",
      "name": "python3"
    },
    "language_info": {
      "codemirror_mode": {
        "name": "ipython",
        "version": 3
      },
      "file_extension": ".py",
      "mimetype": "text/x-python",
      "name": "python",
      "nbconvert_exporter": "python",
      "pygments_lexer": "ipython3",
      "version": "3.8.12"
    },
    "orig_nbformat": 4,
    "colab": {
      "provenance": []
    }
  },
  "nbformat": 4,
  "nbformat_minor": 0
}