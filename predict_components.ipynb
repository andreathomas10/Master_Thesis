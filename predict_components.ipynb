{
 "cells": [
  {
   "attachments": {},
   "cell_type": "markdown",
   "metadata": {},
   "source": [
    "### Looking at PMF results and trying to predict them (at unseen stations)"
   ]
  },
  {
   "cell_type": "code",
   "execution_count": 1,
   "metadata": {},
   "outputs": [],
   "source": [
    "# load packages\n",
    "import warnings\n",
    "warnings.filterwarnings(\"ignore\")\n",
    "import pandas as pd\n",
    "import numpy as np\n",
    "import matplotlib.pyplot as plt\n",
    "import seaborn as sns\n",
    "from sklearn.metrics import r2_score, mean_absolute_percentage_error as mape, mean_squared_error as mse\n",
    "from pyarrow import feather as pq\n",
    "import geopandas as gpd\n",
    "import folium\n",
    "from folium import Marker\n",
    "from shapely import geometry\n",
    "from tqdm import tqdm\n",
    "pd.set_option('display.max_columns', None)\n",
    "from ipywidgets import interact\n",
    "import scipy\n",
    "from tqdm import tqdm\n",
    "from sklearn.model_selection import GroupKFold, GridSearchCV\n",
    "from sklearn.ensemble import RandomForestRegressor, GradientBoostingRegressor\n",
    "import os"
   ]
  },
  {
   "cell_type": "code",
   "execution_count": 2,
   "metadata": {},
   "outputs": [],
   "source": [
    "# load data\n",
    "# load \"converted\" data (contains geo-spatial features and converted OC to OA using c=1.52) \n",
    "path = \"/Users/andrea/Desktop/Thesis/CleanCode/data_converted.csv\"\n",
    "data = pd.read_csv(path)\n",
    "data.time = pd.to_datetime(data.time)\n",
    "# keep only where I have OA measurements\n",
    "data = data.loc[data.OAtot_PMF.isnull()== False,:]\n",
    "# need to manually add 2 station Id\n",
    "data.loc[data.station== \"Bologna (BO)\", \"station_id\"] = \"ID1999\"\n",
    "data.loc[data.station== \"San Pietro Capofiume (SPC)\", \"station_id\"] = \"ID1998\"\n",
    "\n",
    "# CLEAN DATA\n",
    "# remove OA with less than 0.1\n",
    "data= data.loc[data.OAtot_PMF >= 0.1, :]\n",
    "# and stations with less than 30 obs.\n",
    "select = (data.groupby(\"station_id\")[\"OAtot_PMF\"].size() > 30).reset_index()\n",
    "data = data.set_index(\"station_id\")\n",
    "data = data.join(select.set_index(\"station_id\"), rsuffix = \"keep\")\n",
    "data = data.loc[ data.OAtot_PMFkeep == True, :]\n",
    "data = data.reset_index()\n",
    "# switch London data\n",
    "data[\"OAtot_2\"] = data.HOA_PMF + data.BBOA_PMF + data.OOAtot_PMF\n",
    "data.loc[data.station == \"London\",\"OAtot_PMF\"] = data.loc[data.station == \"London\",\"OAtot_2\"]\n",
    "# Remove Zurich 2017\n",
    "data = data.loc[(data.station != \"Zurich\") | (data.year != 2017),:]"
   ]
  },
  {
   "cell_type": "code",
   "execution_count": 3,
   "metadata": {},
   "outputs": [],
   "source": [
    "data[\"rc_1_1000-rc_1_100\"] = data[\"road_class_1_1000\"] - data[\"road_class_1_100\"]\n",
    "data[\"rc_2_1000-rc_2_100\"] = data[\"road_class_2_1000\"] - data[\"road_class_2_100\"]\n",
    "data[\"rc_3_1000-rc_3_100\"] = data[\"road_class_3_1000\"] - data[\"road_class_3_100\"]\n",
    "# CAMX proportions of components of OA\n",
    "data[\"p_HOA\"] = data[\"HOA_CAMX\"] / data[\"OAtot_CAMX\"]\n",
    "data[\"p_BBOA\"] = data[\"BBOA_CAMX\"] / data[\"OAtot_CAMX\"]\n",
    "data[\"p_OOAtot\"] = data[\"OOAtot_CAMX\"] / data[\"OAtot_CAMX\"]\n",
    "\n",
    "# need to decorralate some land-use variables\n",
    "data[\"diff_agriculture\"] = data[\"agriculture1000\"] - data[\"agriculture500\"]\n",
    "data[\"diff_airports\"] = data[\"airports1000\"] - data[\"airports500\"]\n",
    "data[\"diff_barren\"] = data[\"barren1000\"] - data[\"barren500\"]\n",
    "data[\"diff_industrial\"] = data[\"industrial1000\"] - data[\"industrial500\"]\n",
    "data[\"diff_industrial_transport\"]= data[\"industrial_transport1000\"] - data[\"industrial_transport500\"]\n",
    "data[\"diff_natural_green\"] =  data[\"natural_green1000\"] - data[\"natural_green500\"]\n",
    "data[\"diff_ports\"] = data[\"ports1000\"] - data[\"ports500\"]\n",
    "data[\"diff_roads_rails\"] = data[\"roads_rails1000\"] - data[\"roads_rails500\"]\n",
    "data[\"diff_snow_ice\"] = data[\"snow_ice1000\"] - data[\"snow_ice500\"]\n",
    "data[\"diff_transport\"] = data[\"transport1000\"] - data[\"transport500\"]\n",
    "data[\"diff_urban_fabric\"] = data[\"urban_fabric1000\"] - data[\"urban_fabric500\"]\n",
    "data[\"diff_urban_green\"] = data[\"urban_green1000\"] - data[\"urban_green500\"]\n",
    "data[\"diff_water\"] = data[\"water1000\"] - data[\"water500\"]\n",
    "data[\"diff_wetlands\"] = data[\"wetlands1000\"] - data[\"wetlands500\"]\n",
    "# also for Population and IMD\n",
    "data[\"diff_population\"] = data[\"population_1000\"] - data[\"population_500\"]\n",
    "data[\"diff_imd\"] = data[\"imd1000\"] - data[\"imd500\"]\n",
    "data[\"day_of_week\"] = data.time.dt.day_of_week"
   ]
  },
  {
   "cell_type": "code",
   "execution_count": 4,
   "metadata": {},
   "outputs": [
    {
     "data": {
      "text/plain": [
       "4119"
      ]
     },
     "execution_count": 4,
     "metadata": {},
     "output_type": "execute_result"
    }
   ],
   "source": [
    "(data.OOAtot_PMF.isnull() == False).sum()"
   ]
  },
  {
   "cell_type": "code",
   "execution_count": 5,
   "metadata": {},
   "outputs": [],
   "source": [
    "# look at PMF Results \n",
    "PMF = data.loc[(data.HOA_PMF.isnull() == False) | (data.BBOA_PMF.isnull() == False) | (data.OOAtot_PMF.isnull() == False), :]"
   ]
  },
  {
   "cell_type": "code",
   "execution_count": null,
   "metadata": {},
   "outputs": [],
   "source": [
    "# need more cleaning: \n",
    "# remove stations that are not in Chen's paper.\n",
    "#Finokalia,Preila,Rugsteliskis,Vilnius, SMEARII\n",
    "PMF.station.unique()"
   ]
  },
  {
   "cell_type": "code",
   "execution_count": 7,
   "metadata": {},
   "outputs": [],
   "source": [
    "PMF = PMF.loc[PMF.station != \"SMEARII\",:]\n",
    "# Now NAN should be zeros\n",
    "PMF = PMF.fillna(0)"
   ]
  },
  {
   "cell_type": "code",
   "execution_count": null,
   "metadata": {},
   "outputs": [],
   "source": [
    "# OVERLAP WITH CAMXs\n",
    "# VISUALIZE\n",
    "fig, ax = plt.subplots(3,1, figsize = (16,9))\n",
    "PMF.HOA_PMF.plot(ax = ax[0], kind = \"density\")\n",
    "PMF.HOA_CAMX.plot(ax = ax[0], kind = \"density\", alpha = 0.5)\n",
    "ax[0].set_title(\"HOA\")\n",
    "ax[0].legend()\n",
    "PMF.BBOA_PMF.plot(ax = ax[1], kind = \"density\", )\n",
    "PMF.BBOA_CAMX.plot(ax = ax[1], kind = \"density\", alpha = 0.5)\n",
    "ax[1].set_title(\"BBOA\")\n",
    "ax[1].legend()\n",
    "PMF.OOAtot_PMF.plot(ax = ax[2], kind = \"density\")\n",
    "PMF.OOAtot_CAMX.plot(ax = ax[2], kind = \"density\", alpha = 0.5)\n",
    "ax[2].set_title(\"OOA\")\n",
    "ax[2].legend()"
   ]
  },
  {
   "cell_type": "code",
   "execution_count": 9,
   "metadata": {},
   "outputs": [],
   "source": [
    "# MODELLING\n",
    "\n",
    "# Y: proportions of each component as response\n",
    "PMF[\"SUM\"] = PMF.HOA_PMF + PMF.BBOA_PMF + PMF.OOAtot_PMF\n",
    "PMF[\"HOA_p\"] = PMF.HOA_PMF/PMF.SUM\n",
    "PMF[\"BBOA_p\"] = PMF.BBOA_PMF/PMF.SUM\n",
    "PMF[\"OOAtot_p\"] = PMF.OOAtot_PMF/PMF.SUM\n",
    "# _p for proportions\n",
    "Y = PMF.loc[:, [\"HOA_p\",\"BBOA_p\",\"OOAtot_p\"] ]\n",
    "\n",
    "# X: predictors\n",
    "PMF[\"HOA_p_CAMX\"] = PMF.HOA_CAMX/PMF.OAtot_CAMX\n",
    "PMF[\"BBOA_p_CAMX\"] = PMF.BBOA_CAMX/PMF.OAtot_CAMX\n",
    "PMF[\"OOAtot_p_CAMX\"] = PMF.OOAtot_CAMX/PMF.OAtot_CAMX\n",
    "\n",
    "       # \"HOA_p_CAMX\", \"BBOA_p_CAMX\",\"OOAtot_p_CAMX\", \"HOA_CAMX\",\"BBOA_CAMX\", \"OOAtot_CAMX\",             \n",
    "covars = [\"station_id\", \"HOA_p_CAMX\", \"BBOA_p_CAMX\",\"OOAtot_p_CAMX\", \"HOA_CAMX\",\"BBOA_CAMX\", \"OOAtot_CAMX\", \"year\", \"month\",\"day_of_week\",\n",
    "\"temp_CAMX\", \"rh_CAMX\", \"press_CAMX\", \"ws_CAMX\", \"wd_CAMX\", \"pblh_CAMX\", \"wind_x_CAMX\", \"wind_y_CAMX\",\n",
    "\"diff_agriculture\", \"diff_airports\", \"diff_barren\", \"diff_industrial\", \"diff_industrial_transport\",\n",
    "    \"diff_natural_green\", \"diff_ports\", \"diff_roads_rails\", \"diff_snow_ice\", \"diff_transport\", \"diff_urban_fabric\",\n",
    "      \"diff_urban_green\", \"diff_water\", \"diff_wetlands\",\"agriculture500\",\"airports500\", \"barren500\", \"industrial500\",\n",
    "      \"industrial_transport500\", \"natural_green500\", \"ports500\", \"roads_rails500\", \"snow_ice500\", \"transport500\",\n",
    "      \"urban_fabric500\",\"urban_green500\", \"water500\", \"wetlands500\",\"diff_imd\",\"imd500\", \"diff_population\",\n",
    "        \"population_500\",\"elevation\",\"Lat\",\"Lon\"]\n",
    "X = PMF.loc[:, covars]\n",
    "\n",
    "# get Groups for Grouped Cross-Validation\n",
    "groups = X.pop(\"station_id\")"
   ]
  },
  {
   "cell_type": "code",
   "execution_count": 10,
   "metadata": {},
   "outputs": [],
   "source": [
    "# TO DO: How could a NA aries?\n",
    "Y = Y.fillna(0)"
   ]
  },
  {
   "cell_type": "code",
   "execution_count": 11,
   "metadata": {},
   "outputs": [],
   "source": [
    "# How well does CAMx align with PMF\n",
    "def compare_component(component):\n",
    "    groups = PMF.station.unique()\n",
    "    plt.figure(figsize = (16,9))\n",
    "    for name in groups:\n",
    "        plt.scatter( PMF.loc[PMF.station == name, component + \"_p\"], PMF.loc[PMF.station == name, component + \"_p_CAMX\"])\n",
    "        plt.axline(xy1 = (0,0), slope = 1)\n",
    "        plt.xlabel(\"PMF\")\n",
    "        plt.ylabel(\"CAMX\")\n",
    "        plt.title(component)"
   ]
  },
  {
   "cell_type": "code",
   "execution_count": null,
   "metadata": {},
   "outputs": [],
   "source": [
    "interact(compare_component, component = [\"HOA\", \"BBOA\", \"OOAtot\"])"
   ]
  },
  {
   "cell_type": "code",
   "execution_count": 52,
   "metadata": {},
   "outputs": [
    {
     "name": "stderr",
     "output_type": "stream",
     "text": [
      "22it [04:18, 11.74s/it]\n"
     ]
    }
   ],
   "source": [
    "# Kfold\n",
    "# nested CV to tune and compute prediction performance\n",
    "# groupKfold\n",
    "# train with absolute error\n",
    "kfold = GroupKFold(n_splits= PMF.station.nunique())\n",
    "# store results\n",
    "res_forest = dict()\n",
    "observed = dict()\n",
    "camx = dict()\n",
    "\n",
    "for idx, (train_idx, test_idx) in tqdm(enumerate(kfold.split(X,Y,groups))):\n",
    "   # get data\n",
    "    X_train = X.iloc[train_idx,:]\n",
    "    X_test = X.iloc[test_idx,:]\n",
    "    Y_train = Y.iloc[train_idx]\n",
    "    Y_test = Y.iloc[test_idx]\n",
    "\n",
    "    # train regressors\n",
    "    rf = RandomForestRegressor(random_state=99, n_jobs=-1, n_estimators=500)#, criterion = \"absolute_error\")    \n",
    "    # GridSearch\n",
    "    innner_kfold = GroupKFold(n_splits =  5) #\n",
    "    inner_groups = groups.iloc[train_idx]\n",
    "    \n",
    "    param_rf = {\"max_features\":[\"sqrt\",\"log2\"]} #, \"criterion\":[\"squared_error\", \"absolute_error\"]}\n",
    "    \n",
    "    clf = GridSearchCV(rf, param_grid= param_rf, cv = innner_kfold.split(X_train, Y_train, inner_groups))\n",
    "    clf.fit(X_train, Y_train)\n",
    " \n",
    "    # store result per stations\n",
    "    y_pred = clf.predict(X_test)\n",
    "\n",
    "    # station \n",
    "    station = groups.iloc[test_idx].iloc[0]\n",
    "   \n",
    "    res_forest[station] = clf.predict(X_test)     \n",
    "    observed[station] = Y_test\n",
    "    camx[station] = np.array((X_test.HOA_p_CAMX, X_test.BBOA_p_CAMX, X_test.OOAtot_p_CAMX))\n"
   ]
  },
  {
   "cell_type": "code",
   "execution_count": 53,
   "metadata": {},
   "outputs": [],
   "source": [
    "# target metric of choice\n",
    "def my_mape(Y_true, Y_pred):\n",
    "    loss = (np.abs( (Y_true - Y_pred)/(Y_true+1))).mean()\n",
    "    return loss"
   ]
  },
  {
   "cell_type": "code",
   "execution_count": null,
   "metadata": {},
   "outputs": [],
   "source": [
    "# get unweighted results \n",
    "mse_forest = {}\n",
    "mape_forest = {}\n",
    "mse_camx = {}\n",
    "mape_camx = {}\n",
    "\n",
    "# 0 for HOA; 1 for BBOA; and 2 for OOA.\n",
    "i = 2\n",
    "for stat in PMF.station_id.unique():\n",
    "    mse_forest[stat] = mse(observed[stat].iloc[:,i], res_forest[stat][:,i])\n",
    "    mape_forest[stat] = my_mape(observed[stat].iloc[:,i], res_forest[stat][:,i])\n",
    "    mse_camx[stat] = mse(observed[stat].iloc[:,i], camx[stat][i])\n",
    "    mape_camx[stat] = my_mape(observed[stat].iloc[:,i], camx[stat][i])\n",
    "# unweighted\n",
    "print(\"mse rf:\", np.mean(list(mse_forest.values())), \"std.dev: \", np.std(list(mse_forest.values())))\n",
    "print(\"mse camx:\", np.mean(list(mse_camx.values())),  \"std.dev: \", np.std(list(mse_camx.values())))\n",
    "print(\"mape rf:\", np.mean(list(mape_forest.values())),  \"std.dev: \", np.std(list(mape_forest.values())))\n",
    "print(\"mape camx:\", np.mean(list(mape_camx.values())),  \"std.dev: \", np.std(list(mape_camx.values())))"
   ]
  },
  {
   "cell_type": "code",
   "execution_count": null,
   "metadata": {},
   "outputs": [],
   "source": [
    "# get unweighted results \n",
    "rf_hoa = {}\n",
    "rf_bboa = {}\n",
    "rf_ooa = {}\n",
    "camx_hoa = {}\n",
    "camx_bboa = {}\n",
    "camx_ooa = {}\n",
    "\n",
    "# 0 for HOA; 1 for BBOA; and 2 for OOA.\n",
    "for stat in PMF.station_id.unique():\n",
    "    # for HOA\n",
    "    rf_hoa[stat] = mse(observed[stat].iloc[:,0], res_forest[stat][:,0])\n",
    "    camx_hoa[stat] = mse(observed[stat].iloc[:,0], camx[stat][0])\n",
    "    # for BBOA\n",
    "    rf_bboa[stat] = mse(observed[stat].iloc[:,1], res_forest[stat][:,1])\n",
    "    camx_bboa[stat] = mse(observed[stat].iloc[:,1], camx[stat][1])\n",
    "    # for =OA\n",
    "    rf_ooa[stat] = mse(observed[stat].iloc[:,2], res_forest[stat][:,2])\n",
    "    camx_ooa[stat] = mse(observed[stat].iloc[:,2], camx[stat][2])\n",
    "\n",
    "plt.figure(figsize = (16,9))\n",
    "sns.set_style(\"whitegrid\")\n",
    "labels = [\"RF HOA\",\"CAMx HOA\",\"RF BBOA\",\"CAMx BBOA\", \"RF OOA\", \"CAMx OOA\"]\n",
    "positions = [1, 2.5, 6, 7.5, 11,12.5]\n",
    "plt.boxplot([list(rf_hoa.values()), list(camx_hoa.values()), list(rf_bboa.values()), list(camx_bboa.values()),\n",
    "              list(rf_ooa.values()), list(camx_ooa.values())],positions = positions, labels = labels, patch_artist=True)\n",
    "plt.yscale(\"log\")\n",
    "plt.ylabel(\"log(MSE)\", fontsize = 20)\n",
    "plt.tick_params(axis='x', labelsize=20) \n",
    "plt.tick_params(axis='y', labelsize=24) \n",
    "plt.title(\"MSE for OA proportions\", fontsize = 30)"
   ]
  },
  {
   "cell_type": "code",
   "execution_count": null,
   "metadata": {},
   "outputs": [],
   "source": [
    "# boxplot\n",
    "labels = [\"Random Forest\",\"CAMx\"]\n",
    "sns.set_style(\"whitegrid\")\n",
    "plt.figure(figsize=(16,9))\n",
    "plt.boxplot([list(mape_forest.values()), list(mape_camx.values())], patch_artist=True, labels = labels)\n",
    "plt.yscale(\"log\")\n",
    "plt.ylabel(\"log(MAPE)\", fontsize = 20)\n",
    "plt.tick_params(axis='x', labelsize=28) \n",
    "plt.tick_params(axis='y', labelsize=24) \n",
    "plt.title(\"MAPE of OOA\", fontsize = 30)"
   ]
  },
  {
   "cell_type": "code",
   "execution_count": 38,
   "metadata": {},
   "outputs": [],
   "source": [
    "def compare_component(component):\n",
    "    groups = PMF.station.unique()\n",
    "    plt.figure(figsize = (16,9))\n",
    "    for name in groups:\n",
    "        stat_id = PMF.loc[PMF.station == name, \"station_id\"].iloc[0]\n",
    "        if component == \"HOA\":\n",
    "            plt.scatter( PMF.loc[PMF.station == name, component + \"_p\"], res_forest[stat_id][:,0] )\n",
    "        elif component == \"BBOA\":\n",
    "            plt.scatter( PMF.loc[PMF.station == name, component + \"_p\"], res_forest[stat_id][:,1] )\n",
    "        else:\n",
    "            plt.scatter( PMF.loc[PMF.station == name, component + \"_p\"], res_forest[stat_id][:,2] )\n",
    "        plt.axline(xy1 = (0,0), slope = 1)\n",
    "        plt.xlabel(\"PMF\")\n",
    "        plt.ylabel(\"Predicted\")\n",
    "        plt.title(component)"
   ]
  },
  {
   "cell_type": "code",
   "execution_count": null,
   "metadata": {},
   "outputs": [],
   "source": [
    "interact(compare_component, component = [\"HOA\",\"BBOA\",\"OOAtot\"])"
   ]
  },
  {
   "cell_type": "code",
   "execution_count": null,
   "metadata": {},
   "outputs": [],
   "source": [
    "# visualize results\n",
    "def predict_comp(station_name, compare: bool):\n",
    "    fig, ax = plt.subplots(3,1, figsize = (16,9))\n",
    "    # from station name to station ID\n",
    "    stat_id = PMF.loc[PMF.station == station_name, \"station_id\"].unique()\n",
    "    # HOA\n",
    "    ax[0].plot( PMF.loc[PMF.station_id == stat_id[0], \"time\"], res_forest[stat_id[0]][:,0], label = \"Predicted\")\n",
    "    ax[0].plot( PMF.loc[PMF.station_id == stat_id[0], \"time\"], observed[stat_id[0]].iloc[:,0], label = \"Observed\")\n",
    "    ax[0].legend()\n",
    "    ax[0].set_title(\"HOA\")\n",
    "    #ax[0].set_ylim(0,1)\n",
    "    # BBOA\n",
    "    ax[1].plot( PMF.loc[PMF.station_id == stat_id[0], \"time\"], res_forest[stat_id[0]][:,1], label = \"Predicted\")\n",
    "    ax[1].plot( PMF.loc[PMF.station_id == stat_id[0], \"time\"], observed[stat_id[0]].iloc[:,1], label = \"Observed\")\n",
    "    ax[1].legend()\n",
    "    ax[1].set_title(\"BBOA\")\n",
    "    #ax[1].set_ylim(0,1)\n",
    "    # OOAtot\n",
    "    ax[2].plot( PMF.loc[PMF.station_id == stat_id[0], \"time\"], res_forest[stat_id[0]][:,2], label = \"Predicted\")\n",
    "    ax[2].plot( PMF.loc[PMF.station_id == stat_id[0], \"time\"], observed[stat_id[0]].iloc[:,2], label = \"Observed\")\n",
    "    ax[2].legend()\n",
    "    ax[2].set_title(\"OOAtot\")\n",
    "    #ax[2].set_ylim(0,1)\n",
    "\n",
    "    # for comparison with raw CAMx\n",
    "    if compare: # _p for proportion\n",
    "        ax[0].plot(PMF.loc[PMF.station_id == stat_id[0], \"time\"], PMF.loc[PMF.station_id == stat_id[0], \"HOA_p_CAMX\"], label = \"CAMx\")\n",
    "        ax[0].legend()\n",
    "        ax[1].plot(PMF.loc[PMF.station_id == stat_id[0], \"time\"], PMF.loc[PMF.station_id == stat_id[0], \"BBOA_p_CAMX\"], label = \"CAMx\")\n",
    "        ax[1].legend()\n",
    "        ax[2].plot(PMF.loc[PMF.station_id == stat_id[0], \"time\"], PMF.loc[PMF.station_id == stat_id[0], \"OOAtot_p_CAMX\"], label = \"CAMx\")\n",
    "        ax[2].legend()"
   ]
  },
  {
   "cell_type": "code",
   "execution_count": null,
   "metadata": {},
   "outputs": [],
   "source": [
    "interact(predict_comp, station_name = PMF.station.unique(), compare = [True, False])"
   ]
  },
  {
   "cell_type": "code",
   "execution_count": null,
   "metadata": {},
   "outputs": [],
   "source": [
    "# compute wighted performance \n",
    "n = groups.nunique()\n",
    "hoa = np.zeros(n)\n",
    "bboa= np.zeros(n)\n",
    "ooa = np.zeros(n)\n",
    "hoa_camx = np.zeros(n)\n",
    "bboa_camx= np.zeros(n)\n",
    "ooa_camx = np.zeros(n)\n",
    "# choose metric\n",
    "metric = my_mape\n",
    "# choose results (i.e. monthly or daily and RF or Boosting)\n",
    "result = res_forest\n",
    "\n",
    "for i, id in enumerate(groups.unique()):\n",
    "    hoa[i] = metric(observed[id].iloc[:,0], result[id][:,0])* len(result[id])\n",
    "    bboa[i] = metric(observed[id].iloc[:,1], result[id][:,1]) * len(result[id])\n",
    "    ooa[i] = metric(observed[id].iloc[:,2], result[id][:,2])* len(result[id])\n",
    "    hoa_camx[i] = metric(observed[id].iloc[:,0], camx[id][0])* len(result[id])\n",
    "    bboa_camx[i] = metric(observed[id].iloc[:,1], camx[id][1])* len(result[id])\n",
    "    ooa_camx[i] = metric(observed[id].iloc[:,2], camx[id][2])* len(result[id])\n",
    "\n",
    "\n",
    "print(metric, \"HOA\", hoa.sum()/len(PMF))\n",
    "print(metric, \"BBOA\", bboa.sum()/len(PMF))\n",
    "print(metric, \"OOA\", ooa.sum()/len(PMF))\n",
    "# mse of CAMx\n",
    "print(metric, \" of HOA CAMx\", metric(Y[\"HOA_p\"], PMF.loc[:, \"HOA_p_CAMX\"]))\n",
    "print(metric, \" of BBOA CAMx\", metric(Y[\"BBOA_p\"], PMF.loc[:, \"BBOA_p_CAMX\"]))\n",
    "print(metric, \" of OOA CAMx\", metric(Y[\"OOAtot_p\"], PMF.loc[:, \"OOAtot_p_CAMX\"]))"
   ]
  },
  {
   "cell_type": "code",
   "execution_count": null,
   "metadata": {},
   "outputs": [],
   "source": [
    "# now compare PMF absolute values to CAMX and my reconstruced ones\n",
    "# try mse, mae, my_mape\n",
    "metric = my_mape\n",
    "score_hoa = {}\n",
    "score_bboa = {}\n",
    "score_ooa = {}\n",
    "camx_hoa= {}\n",
    "camx_bboa = {}\n",
    "camx_ooa = {}\n",
    "\n",
    "for i, id in enumerate(groups.unique()):\n",
    "    # get OA of CAMx\n",
    "    oa_camx = PMF.loc[PMF.station_id == id, \"OAtot_CAMX\"]\n",
    "    hoa_camx = PMF.loc[PMF.station_id == id, \"HOA_CAMX\"]\n",
    "    bboa_camx = PMF.loc[PMF.station_id == id, \"BBOA_CAMX\"]\n",
    "    ooa_camx = PMF.loc[PMF.station_id == id, \"OOAtot_CAMX\"]\n",
    "    oa_obs = PMF.loc[PMF.station_id == id, \"OAtot_PMF\"]\n",
    "    oa_sum = PMF.loc[PMF.station_id == id, \"SUM\"]\n",
    "    # my predictions\n",
    "    p_hoa = res_forest[id][:,0]\n",
    "    p_bboa = res_forest[id][:,1]\n",
    "    p_ooa = res_forest[id][:,2]\n",
    "    pred_hoa = p_hoa * oa_camx\n",
    "    pred_bboa = p_bboa * oa_camx\n",
    "    pred_ooa = p_ooa * oa_camx\n",
    "    # the sum does not match the observed sometimes\n",
    "    score_hoa[id] = metric(observed[id].iloc[:,0]* oa_sum, pred_hoa) \n",
    "    score_bboa[id] = metric(observed[id].iloc[:,1]* oa_sum, pred_bboa) \n",
    "    score_ooa[id] = metric(observed[id].iloc[:,2]* oa_sum, pred_ooa) \n",
    "    # CAMX\n",
    "    camx_hoa[id] = metric(observed[id].iloc[:,0]* oa_sum, hoa_camx) \n",
    "    camx_bboa[id] = metric(observed[id].iloc[:,1]* oa_sum, bboa_camx) \n",
    "    camx_ooa[id] = metric(observed[id].iloc[:,2]* oa_sum, ooa_camx) \n",
    "\n",
    "print(\"rf HOA\", np.mean(list(score_hoa.values()) ), \"std.dev: \", np.std(list(score_hoa.values())  ) )\n",
    "print(\"rf BBOA\", np.mean(list(score_bboa.values()) ), \"std.dev: \",np.std(list(score_bboa.values())) )\n",
    "print(\"rf OOA\", np.mean(list(score_ooa.values()) ), \"std.dev: \",np.std(list(score_ooa.values())) )\n",
    "print(\"camx HOA\", np.mean(list(camx_hoa.values()) ), \"std.dev: \",np.std(list(camx_hoa.values()) ) )\n",
    "print(\"camx BBOA\", np.mean(list(camx_bboa.values()) ), \"std.dev: \",np.std(list(camx_bboa.values())) )\n",
    "print(\"camx OOA\", np.mean(list(camx_ooa.values()) ), \"std.dev: \",np.std(list(camx_ooa.values())) )\n",
    "\n"
   ]
  },
  {
   "cell_type": "code",
   "execution_count": null,
   "metadata": {},
   "outputs": [],
   "source": [
    "plt.figure(figsize = (16,9))\n",
    "sns.set_style(\"whitegrid\")\n",
    "labels = [\"RF HOA\",\"CAMx HOA\",\"RF BBOA\",\"CAMx BBOA\", \"RF OOA\", \"CAMx OOA\"]\n",
    "positions = [1, 2.5, 6, 7.5, 11,12.5]\n",
    "plt.boxplot([list(score_hoa.values()), list(camx_hoa.values()), list(score_bboa.values()), list(camx_bboa.values()),\n",
    "              list(score_ooa.values()), list(camx_ooa.values())],positions = positions, labels = labels, patch_artist=True)\n",
    "plt.yscale(\"log\")\n",
    "plt.ylabel(\"log(MSE)\", fontsize = 20)\n",
    "plt.tick_params(axis='x', labelsize=20) \n",
    "plt.tick_params(axis='y', labelsize=24) \n",
    "plt.title(\"MSE for OA components\", fontsize = 30)\n"
   ]
  },
  {
   "cell_type": "code",
   "execution_count": 47,
   "metadata": {},
   "outputs": [],
   "source": [
    "# visualize results\n",
    "def predict_comp(station_name, compare: bool):\n",
    "    fig, ax = plt.subplots(3,1, figsize = (16,9))\n",
    "    # from station name to station ID\n",
    "    stat_id = PMF.loc[PMF.station == station_name, \"station_id\"].unique()\n",
    "    oa_camx = PMF.loc[PMF.station_id == stat_id[0], \"OAtot_CAMX\"]\n",
    "    oa_sum = PMF.loc[PMF.station_id == stat_id[0], \"SUM\"]\n",
    "    # HOA\n",
    "    ax[0].plot( PMF.loc[PMF.station_id == stat_id[0], \"time\"], res_forest[stat_id[0]][:,0]*oa_camx, label = \"Predicted\")\n",
    "    ax[0].plot( PMF.loc[PMF.station_id == stat_id[0], \"time\"], observed[stat_id[0]].iloc[:,0]*oa_sum, label = \"Observed\")\n",
    "    ax[0].legend()\n",
    "    ax[0].set_title(\"HOA\")\n",
    "\n",
    "    # BBOA\n",
    "    ax[1].plot( PMF.loc[PMF.station_id == stat_id[0], \"time\"], res_forest[stat_id[0]][:,1]*oa_camx, label = \"Predicted\")\n",
    "    ax[1].plot( PMF.loc[PMF.station_id == stat_id[0], \"time\"], observed[stat_id[0]].iloc[:,1]*oa_sum, label = \"Observed\")\n",
    "    ax[1].legend()\n",
    "    ax[1].set_title(\"BBOA\")\n",
    " \n",
    "    # OOAtot\n",
    "    ax[2].plot( PMF.loc[PMF.station_id == stat_id[0], \"time\"], res_forest[stat_id[0]][:,2]*oa_camx, label = \"Predicted\")\n",
    "    ax[2].plot( PMF.loc[PMF.station_id == stat_id[0], \"time\"], observed[stat_id[0]].iloc[:,2]*oa_sum, label = \"Observed\")\n",
    "    ax[2].legend()\n",
    "    ax[2].set_title(\"OOAtot\")\n",
    "\n",
    "\n",
    "    # for comparison with raw CAMx\n",
    "    if compare:\n",
    "        ax[0].plot(PMF.loc[PMF.station_id == stat_id[0], \"time\"], PMF.loc[PMF.station_id == stat_id[0], \"HOA_p_CAMX\"]*oa_camx, label = \"CAMx\")\n",
    "        ax[0].legend()\n",
    "        ax[1].plot(PMF.loc[PMF.station_id == stat_id[0], \"time\"], PMF.loc[PMF.station_id == stat_id[0], \"BBOA_p_CAMX\"]*oa_camx, label = \"CAMx\")\n",
    "        ax[1].legend()\n",
    "        ax[2].plot(PMF.loc[PMF.station_id == stat_id[0], \"time\"], PMF.loc[PMF.station_id == stat_id[0], \"OOAtot_p_CAMX\"]*oa_camx, label = \"CAMx\")\n",
    "        ax[2].legend()"
   ]
  },
  {
   "cell_type": "code",
   "execution_count": null,
   "metadata": {},
   "outputs": [],
   "source": [
    "interact(predict_comp, station_name = PMF.station.unique(), compare = [True, False])"
   ]
  }
 ],
 "metadata": {
  "kernelspec": {
   "display_name": "IML",
   "language": "python",
   "name": "python3"
  },
  "language_info": {
   "codemirror_mode": {
    "name": "ipython",
    "version": 3
   },
   "file_extension": ".py",
   "mimetype": "text/x-python",
   "name": "python",
   "nbconvert_exporter": "python",
   "pygments_lexer": "ipython3",
   "version": "3.8.13"
  },
  "orig_nbformat": 4
 },
 "nbformat": 4,
 "nbformat_minor": 2
}
