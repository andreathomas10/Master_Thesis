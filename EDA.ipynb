{
  "cells": [
    {
      "cell_type": "markdown",
      "metadata": {
        "id": "8TGoFUfbw5Uc"
      },
      "source": [
        "# Exploratory Data Analysis\n",
        "#### Code to reproduce results of Thesis Chapter: Introduction"
      ]
    },
    {
      "cell_type": "code",
      "execution_count": 1,
      "metadata": {
        "id": "yTuziQijw5Uf"
      },
      "outputs": [],
      "source": [
        "# load packages\n",
        "import warnings\n",
        "warnings.filterwarnings(\"ignore\")\n",
        "import pandas as pd\n",
        "import numpy as np\n",
        "import matplotlib.pyplot as plt\n",
        "import seaborn as sns\n",
        "from sklearn.metrics import r2_score, mean_absolute_percentage_error as mape\n",
        "from pyarrow import feather as pq\n",
        "import geopandas as gpd\n",
        "import folium\n",
        "from folium import Marker\n",
        "from shapely import geometry\n",
        "from tqdm import tqdm\n",
        "pd.set_option('display.max_columns', None)\n",
        "from ipywidgets import interact\n",
        "from IPython.display import display\n",
        "import ipywidgets as widgets"
      ]
    },
    {
      "cell_type": "code",
      "source": [
        "# mount drive\n",
        "from google.colab import drive\n",
        "drive.mount(\"/content/gdrive\")"
      ],
      "metadata": {
        "colab": {
          "base_uri": "https://localhost:8080/"
        },
        "id": "tHqhurZ8x4zn",
        "outputId": "178b6fc2-9e17-4676-ad3d-6eed5e82dace"
      },
      "execution_count": 2,
      "outputs": [
        {
          "output_type": "stream",
          "name": "stdout",
          "text": [
            "Mounted at /content/gdrive\n"
          ]
        }
      ]
    },
    {
      "cell_type": "code",
      "execution_count": 3,
      "metadata": {
        "id": "hGD5wimYw5Ug"
      },
      "outputs": [],
      "source": [
        "# load data (original data)\n",
        "data = pq.read_feather(\"/content/gdrive/MyDrive/Aurora_Thesis/ebas_riurban_and_source_data.feather\")\n",
        "# add year, month, week, day\n",
        "data[\"year\"] = data.time.dt.year\n",
        "data[\"month\"] = data.time.dt.month\n",
        "data[\"week\"] = data.time.dt.week\n",
        "data[\"day\"] = data.time.dt.dayofyear\n",
        "# make it a GeoPandas\n",
        "data_gdf = gpd.GeoDataFrame(data, geometry= gpd.points_from_xy(x = data.Lon, y = data.Lat), crs = 4326)\n",
        "# read locations of CAMx's Grid\n",
        "location = pd.read_excel(\"/content/gdrive/MyDrive/Aurora_Thesis/camx_latitude_longitude.xlsx\", index_col=0)\n",
        "# make it a GeoPandas\n",
        "location_gdf = gpd.GeoDataFrame(location, geometry = gpd.points_from_xy(x = location.Longitude, y= location.Latitude), crs = 4326)"
      ]
    },
    {
      "cell_type": "code",
      "execution_count": null,
      "metadata": {
        "id": "kT-6umx7w5Uh"
      },
      "outputs": [],
      "source": [
        "# SOME STATS\n",
        "print(\"Number of stations\", data.station_id.nunique())\n",
        "print(\"Number of datasets\", data.dataset.nunique(),data.dataset.unique() )\n",
        "print(\"Number of years\", data.year.nunique(), data.year.unique())\n",
        "print(\"Number of OA measurements\", (data.OAtot_PMF.isnull()==False).sum())\n",
        "print(\"Number of OC measurements\", (data.OC_PMF.isnull()==False).sum())"
      ]
    },
    {
      "cell_type": "code",
      "execution_count": null,
      "metadata": {
        "id": "ZeUgI5S0w5Ui"
      },
      "outputs": [],
      "source": [
        "# STATS ON DATASETS\n",
        "print(\"Number of stations ONLINE\", data.loc[data.dataset == \"online\", \"station_id\"].nunique())\n",
        "print(\"Number of stations RIURBAN\", data.loc[data.dataset == \"riurban\",\"station_id\"].nunique())\n",
        "print(\"Measurements (OC) in RIURBAN\", data.loc[(data.dataset == \"riurban\") & (data.OC_PMF.isnull()==False),:].shape[0])\n",
        "print(\"Number of stations EBAS\", data.loc[data.dataset == \"ebas\",\"station_id\"].nunique())\n",
        "print(\"Measurements (OC) in EBAS\", data.loc[(data.dataset == \"ebas\") & (data.OC_PMF.isnull()==False),:].shape[0])\n"
      ]
    },
    {
      "cell_type": "code",
      "execution_count": null,
      "metadata": {
        "id": "2Xjl8ImOw5Ui"
      },
      "outputs": [],
      "source": [
        "# MORE STATS\n",
        "print(\"Years in ONLINE\", data.loc[data.dataset == \"online\", \"year\"].unique())\n",
        "print(\"Years in RIURBAN\", data.loc[data.dataset == \"riurban\", \"year\"].unique())\n",
        "print(\"Years in EBAS\", data.loc[data.dataset == \"ebas\", \"year\"].unique())\n"
      ]
    },
    {
      "cell_type": "code",
      "execution_count": null,
      "metadata": {
        "id": "tF1pNd-Tw5Ui"
      },
      "outputs": [],
      "source": [
        "# PLOTTING STATION LOCATIONS USING FOLIUM\n",
        "\n",
        "# create GeoDataFrame, original coordinates (Lat and Lon) are referenced with crs = 4326\n",
        "data_gdf = gpd.GeoDataFrame(data, geometry= gpd.points_from_xy(x = data.Lon, y = data.Lat), crs = 4326)\n",
        "# remove stations without info on coordinates\n",
        "data_gdf = data_gdf.loc[(data_gdf.Lat.isnull()== False) & (data_gdf.Lat.isnull() == False),:]\n",
        "\n",
        "# Plot stations\n",
        "map = folium.Map(location = [data_gdf.geometry.y.mean(), data_gdf.geometry.x.mean()],\n",
        "                   tiles = \"OpenStreetMap\", zoom_start = 5)\n",
        "# add marker per station\n",
        "for geom in data_gdf.geometry.unique():\n",
        "    folium.Marker([geom.y, geom.x], radius =1, popup = \"marker\").add_to(map)\n",
        "map"
      ]
    },
    {
      "cell_type": "code",
      "execution_count": 8,
      "metadata": {
        "id": "Jjkr7-C8w5Uj"
      },
      "outputs": [],
      "source": [
        "# Plot only from one dataset\n",
        "def plot_dataset(dataset_name):\n",
        "    # get data\n",
        "    dataset_data = data_gdf.loc[data_gdf.dataset == dataset_name,:]\n",
        "\n",
        "    map = folium.Map(location = [dataset_data.geometry.y.mean(), dataset_data.geometry.x.mean()],\n",
        "                    zoom_start = 4.5)\n",
        "\n",
        "    # add marker per station\n",
        "    for geom  in dataset_data.geometry.unique():\n",
        "        folium.CircleMarker([geom.y, geom.x], radius = 4, color = \"red\").add_to(map)\n",
        "\n",
        "    return map"
      ]
    },
    {
      "cell_type": "code",
      "execution_count": null,
      "metadata": {
        "id": "dW04z6Oiw5Uj"
      },
      "outputs": [],
      "source": [
        "interact(plot_dataset, dataset_name = data.dataset.unique())"
      ]
    },
    {
      "cell_type": "code",
      "execution_count": 10,
      "metadata": {
        "id": "iqCrJV1Rw5Uj"
      },
      "outputs": [],
      "source": [
        "# Plot with station names (slower than above)\n",
        "def plot_dataset_name(dataset_name):\n",
        "    # get data\n",
        "    dataset_data = data_gdf.loc[data_gdf.dataset == dataset_name,:]\n",
        "\n",
        "    map = folium.Map(location = [dataset_data.geometry.y.mean(), dataset_data.geometry.x.mean()],\n",
        "                    zoom_start = 4.5)\n",
        "\n",
        "    # add marker per station\n",
        "    for i, r in dataset_data.iterrows():\n",
        "        # add Icon ?\n",
        "        folium.CircleMarker([r.geometry.y, r.geometry.x], radius = 4, color = \"red\", popup = r.station).add_to(map)\n",
        "\n",
        "    return map"
      ]
    },
    {
      "cell_type": "code",
      "execution_count": null,
      "metadata": {
        "id": "bKiYE6fZw5Uk"
      },
      "outputs": [],
      "source": [
        "# plot with station name if click\n",
        "plot_dataset_name(\"ebas\")"
      ]
    },
    {
      "cell_type": "code",
      "execution_count": null,
      "metadata": {
        "id": "lnlLhq1rw5Uk"
      },
      "outputs": [],
      "source": [
        "# Plot using GeoPandas\n",
        "# load background map of Europe\n",
        "path2 = \"/content/gdrive/MyDrive/Aurora_Thesis/NUTS_RG_20M_2021_3035.shp\"\n",
        "europe = gpd.read_file(path2)\n",
        "# Look at Coordinate Reference System (CRS)\n",
        "print(europe.crs)\n",
        "# Select Level Code\n",
        "europe = europe.loc[europe.LEVL_CODE == 1,:]\n",
        "# Remove remore French island\n",
        "europe = europe.loc[europe.NAME_LATN != \"RUP FR — Régions Ultrapériphériques Françaises\",:]\n",
        "europe.plot()"
      ]
    },
    {
      "cell_type": "code",
      "execution_count": null,
      "metadata": {
        "id": "YXo_kq94w5Uk"
      },
      "outputs": [],
      "source": [
        "sns.set_theme(style=\"whitegrid\")\n",
        "# make sure to project station coordinate to same CRS at the Europe map (i.e. epsg:3035)\n",
        "fig, ax = plt.subplots(1,3, figsize = (20,30))\n",
        "# online\n",
        "europe.to_crs(\"epsg:4326\").plot(figsize = (16,9), ax = ax[0])\n",
        "data_gdf.to_crs(\"epsg:4326\").loc[data_gdf.dataset == \"online\",:].plot(ax = ax[0], color = \"darkorange\",edgecolor='black', marker = \"o\",markersize = 60,\n",
        "                                                                      label = \"Online Stations\",rasterized=True, figsize = (16,9), aspect = \"equal\")\n",
        "ax[0].set_title(\"Online\", fontsize = 24)\n",
        "ax[0].set_ylabel(\"Lat\", fontsize = 20)\n",
        "ax[0].set_xlabel(\"Lon\", fontsize = 20)\n",
        "# ebas\n",
        "europe.to_crs(\"epsg:4326\").plot(figsize = (16,9), ax = ax[1])\n",
        "data_gdf.to_crs(\"epsg:4326\").loc[data_gdf.dataset == \"ebas\",:].plot(ax = ax[1], color = \"darkorange\",edgecolor='black', marker = \"o\",markersize = 60,\n",
        "                                                                      label = \"Ebas Stations\",rasterized=True, figsize = (16,9), aspect = \"equal\")\n",
        "ax[1].set_title(\"Ebas\", fontsize = 24)\n",
        "ax[1].set_ylabel(\"Lat\", fontsize = 20)\n",
        "ax[1].set_xlabel(\"Lon\", fontsize = 20)\n",
        "# riurban\n",
        "europe.to_crs(\"epsg:4326\").plot(figsize = (16,9), ax = ax[2])\n",
        "data_gdf.to_crs(\"epsg:4326\").loc[data_gdf.dataset == \"riurban\",:].plot(ax = ax[2], color = \"darkorange\",edgecolor='black', marker = \"o\",markersize = 60,\n",
        "                                                                      label = \"Riurban Stations\",rasterized=True, figsize = (16,9), aspect = \"equal\")\n",
        "ax[2].set_title(\"Riurban\", fontsize = 24)\n",
        "ax[2].set_ylabel(\"Lat\", fontsize = 20)\n",
        "ax[2].set_xlabel(\"Lon\", fontsize = 20)\n",
        "#xmin, xmax = 2*10**6 ,6.5*10**6\n",
        "#ymin, ymax = 1*10**6, 6*10**6\n",
        "#plt.xlim([xmin, xmax])\n",
        "#plt.ylim([ymin, ymax])\n",
        "#plt.xlim([-25, 45])\n",
        "#plt.ylim([30, 75])"
      ]
    },
    {
      "cell_type": "code",
      "execution_count": null,
      "metadata": {
        "id": "uZoAfOfDw5Ul"
      },
      "outputs": [],
      "source": [
        "# plot stations using Geopandas\n",
        "sns.set_theme(style=\"whitegrid\")\n",
        "ax = europe.plot(figsize = (16,9))\n",
        "# make sure to project station coordinate to same CRS at the Europe map (i.e. epsg:3035)\n",
        "data_gdf.to_crs(\"epsg:3035\").plot(ax = ax, color = \"darkorange\",edgecolor='black', marker = \"o\",markersize = 60, rasterized = True, figsize = (16,9))\n",
        "# add grid centroids\n",
        "location_gdf.to_crs(\"epsg:3035\").plot(ax = ax, color = \"green\", markersize = 0.01, figsize = (16,9), rasterized = True)\n",
        "#plt.savefig(\"/Users/andrea/Desktop/Thesis/Pic/p_grid.pdf\", bbox_inches = \"tight\")\n",
        "\n",
        "# For map in Lat and Lon plane: project europe map to epsg:4326 and leave stations and grid in original CRS.\n",
        "ax = europe.to_crs(\"epsg:4326\").plot(figsize = (16,9))\n",
        "data_gdf.plot(ax = ax, color = \"darkorange\",edgecolor='black', marker = \"o\",markersize = 60, rasterized = True, figsize = (16,9))\n",
        "location_gdf.plot(ax = ax, color = \"green\", markersize = 0.01, figsize = (16,9), rasterized = True )\n",
        "plt.xlabel(\"Lon\")\n",
        "plt.ylabel(\"Lat\")\n",
        "#plt.savefig(\"/Users/andrea/Desktop/Thesis/Pic/non_p_grid.pdf\", bbox_inches = \"tight\")"
      ]
    },
    {
      "cell_type": "code",
      "execution_count": 16,
      "metadata": {
        "id": "FmYOtEJkw5Ul"
      },
      "outputs": [],
      "source": [
        "# Zurich OA data\n",
        "Zurich_11 = data.loc[(data.OAtot_PMF.isnull()==False)&(data.year == 2011)&(data.station == \"Zurich\"),:]\n",
        "Zurich_17 = data.loc[(data.OAtot_PMF.isnull()==False)&(data.year == 2017)&(data.station == \"Zurich\"),:]\n",
        "Zurich_11 = Zurich_11.set_index(\"day\")\n",
        "Zurich_17 = Zurich_17.set_index(\"day\")"
      ]
    },
    {
      "cell_type": "code",
      "execution_count": null,
      "metadata": {
        "id": "PKJO-u_Bw5Um"
      },
      "outputs": [],
      "source": [
        "#  Plot of 2011 vs 2017\n",
        "sns.set_theme(style=\"whitegrid\")\n",
        "fig, ax = plt.subplots(figsize = (16,9))\n",
        "plt.rcParams[\"font.size\"] =\"24\"\n",
        "Zurich_11.OAtot_PMF.plot(ax = ax, label = \"2011\")\n",
        "Zurich_17.OAtot_PMF.plot(ax = ax, label = \"2017\")\n",
        "plt.legend(loc='upper center', bbox_to_anchor=(0.5, -0.1),\n",
        "          fancybox=True, shadow=True, ncol=5, fontsize = 20)\n",
        "\n",
        "plt.title(\"Zürich\", fontsize = 24)\n",
        "plt.xlabel(\"Day of the Year\", fontsize = 20)\n",
        "plt.ylabel(\"OA concentration\", fontsize = 20)\n",
        "plt.xticks(fontsize = 18)\n",
        "plt.yticks(fontsize = 18)\n",
        "#plt.savefig(\"/Users/andrea/Desktop/Thesis/Pic/zu.pdf\", bbox_inches = \"tight\")"
      ]
    },
    {
      "cell_type": "code",
      "execution_count": 19,
      "metadata": {
        "id": "z6GRtELyw5Um"
      },
      "outputs": [],
      "source": [
        "# Remove Svalbard (Norway) since outside of CAMx's grid\n",
        "data = data.loc[data.station != \"Zeppelin mountain (Ny-Ålesund)\",:]\n",
        "data_gdf = data_gdf.loc[data_gdf.station != \"Zeppelin mountain (Ny-Ålesund)\",:]"
      ]
    },
    {
      "cell_type": "code",
      "execution_count": 20,
      "metadata": {
        "id": "QssIHkH4w5Un",
        "outputId": "bdcaffe2-a047-41c4-b1d8-cddf0cd97317",
        "colab": {
          "base_uri": "https://localhost:8080/"
        }
      },
      "outputs": [
        {
          "output_type": "stream",
          "name": "stdout",
          "text": [
            "Number of grid centroids: 55521\n"
          ]
        }
      ],
      "source": [
        "# CAMx GRID INFORMATION\n",
        "print(\"Number of grid centroids:\", location.shape[0])"
      ]
    },
    {
      "cell_type": "code",
      "execution_count": 21,
      "metadata": {
        "id": "6sz1uKicw5Uo"
      },
      "outputs": [],
      "source": [
        "# Compute GeoSpatial Features\n",
        "# Will work with the following projection: crs_ = \"epsg:3035\" (can choose others epsg:3857, epsg 4326)\n",
        "crs_ = \"epsg:3035\"\n",
        "data_gdf_mt = data_gdf.to_crs(crs_)\n",
        "data_gdf_mt = data_gdf_mt.fillna(0)"
      ]
    },
    {
      "cell_type": "code",
      "execution_count": 22,
      "metadata": {
        "id": "YsuXutjXw5Uo",
        "outputId": "1baf7ae4-517a-47a4-ef81-b14ec9649c93",
        "colab": {
          "base_uri": "https://localhost:8080/"
        }
      },
      "outputs": [
        {
          "output_type": "stream",
          "name": "stderr",
          "text": [
            "100%|██████████| 128/128 [00:20<00:00,  6.14it/s]\n"
          ]
        }
      ],
      "source": [
        "# distance to closest center\n",
        "distance_center = dict()\n",
        "for i, stat in enumerate(tqdm(data_gdf_mt.station_id.unique())):\n",
        "    # get station coordinates\n",
        "    stat_loc = data_gdf_mt.loc[data_gdf_mt.station_id == stat,\"geometry\"].iloc[0]\n",
        "    # get smallest distance to any centroid as distance to closest center\n",
        "    distance_center[stat] = min(np.abs(stat_loc.distance(location_gdf.to_crs(crs_).geometry)))\n",
        "distance_center = pd.DataFrame(distance_center.items())\n",
        "# rename\n",
        "distance_center = distance_center.rename(columns = {0:\"station_id\",1:\"distance_mt\"})\n",
        "data = data.set_index(\"station_id\")\n",
        "# join on station ID to add the feature\n",
        "data = data.join(distance_center.set_index(\"station_id\"), rsuffix=2)\n",
        "data.loc[:,[\"station\",\"distance_mt\"]]\n",
        "data = data.reset_index()"
      ]
    },
    {
      "cell_type": "code",
      "execution_count": 23,
      "metadata": {
        "id": "yi7lfhHkw5Uo"
      },
      "outputs": [],
      "source": [
        "# create border of grid\n",
        "min_lat = min(location.Latitude)\n",
        "max_lat = max(location.Latitude)\n",
        "min_lon = min(location.Longitude)\n",
        "max_lon = max(location.Longitude)\n",
        "border = []\n",
        "for row in location_gdf.loc[:,[\"Latitude\",\"Longitude\",\"geometry\"]].iterrows():\n",
        "    if (row[1].Latitude == min_lat) |  (row[1].Latitude == max_lat) | (row[1].Longitude == max_lon) | (row[1].Longitude == min_lon):\n",
        "        border.append(row[1])\n",
        "\n",
        "df_border = pd.DataFrame(border)\n",
        "gdf_border = gpd.GeoDataFrame(df_border, geometry = df_border.geometry, crs = 4326)"
      ]
    },
    {
      "cell_type": "code",
      "execution_count": null,
      "metadata": {
        "id": "7-bMyLaTw5Uo"
      },
      "outputs": [],
      "source": [
        "# Plot Grid's border\n",
        "sns.set_style(\"whitegrid\")\n",
        "ax = europe.to_crs(\"epsg:3035\").plot(figsize=(16,9))\n",
        "gdf_border.to_crs(\"epsg:3035\").plot(ax = ax, color = \"green\",markersize = 3, rasterized = True, figsize = (16,9))\n",
        "data_gdf.to_crs(\"epsg:3035\").plot(ax= ax, color = \"darkorange\",edgecolor='black', marker = \"o\",markersize = 60, rasterized = True, figsize = (16,9))\n",
        "#plt.savefig(\"/Users/andrea/Desktop/Thesis/Pic/border.pdf\", bbox_inches = \"tight\")"
      ]
    },
    {
      "cell_type": "code",
      "execution_count": 25,
      "metadata": {
        "id": "T6wVfo8cw5Uo",
        "outputId": "0995caf2-8dd4-4925-84b2-034f2299e428",
        "colab": {
          "base_uri": "https://localhost:8080/"
        }
      },
      "outputs": [
        {
          "output_type": "stream",
          "name": "stderr",
          "text": [
            "100%|██████████| 128/128 [00:01<00:00, 77.12it/s]\n"
          ]
        }
      ],
      "source": [
        "# Distance to Grid Border\n",
        "crs_ = \"epsg:3035\"\n",
        "distance_border = dict()\n",
        "for i, stat in enumerate(tqdm(data_gdf_mt.station_id.unique())):\n",
        "    stat_loc = data_gdf_mt.loc[data_gdf_mt.station_id == stat,\"geometry\"].iloc[0]\n",
        "    distance_border[stat] = min(np.abs(stat_loc.distance(gdf_border.to_crs(crs_).geometry)))\n",
        "distance_border = pd.DataFrame(distance_border.items())\n",
        "distance_border = distance_border.rename(columns = {0:\"station_id\",1:\"distance_border\"})\n",
        "data = data.set_index(\"station_id\").join(distance_border.set_index(\"station_id\"), rsuffix=2)\n",
        "data = data.reset_index()"
      ]
    },
    {
      "cell_type": "code",
      "execution_count": 26,
      "metadata": {
        "id": "eyn1DTBaw5Up",
        "outputId": "8f7789f1-7106-47bb-919d-d480d1053ab5",
        "colab": {
          "base_uri": "https://localhost:8080/"
        }
      },
      "outputs": [
        {
          "output_type": "stream",
          "name": "stdout",
          "text": [
            "Difference in Longitude between centers: [0.25]\n",
            "Difference in Latitude between centers: [0.125]\n"
          ]
        }
      ],
      "source": [
        "# check spacing of grid centroids\n",
        "# sort by Longitude\n",
        "location_gdf_sorted_lon = location_gdf.sort_values(by= \"Longitude\")\n",
        "# Group by Latitude and check difference in Longitude\n",
        "print(\"Difference in Longitude between centers:\",\n",
        "location_gdf_sorted_lon.groupby(\"Latitude\").apply(lambda x: x.iloc[1:,1].reset_index() - x.iloc[:-1,1].reset_index()).Longitude.unique())\n",
        "\n",
        "# sort by Latitude\n",
        "location_gdf_sorted_lat = location_gdf.sort_values(by= \"Latitude\")\n",
        "# Group by Latitude and check difference in Latitude\n",
        "print(\"Difference in Latitude between centers:\",\n",
        "    location_gdf_sorted_lat.groupby(\"Longitude\").apply(lambda x: x.iloc[1:,0].reset_index() - x.iloc[:-1,0].reset_index()).Latitude.unique())\n"
      ]
    },
    {
      "cell_type": "code",
      "execution_count": 27,
      "metadata": {
        "id": "XHCa4o7Yw5Up"
      },
      "outputs": [],
      "source": [
        "# From the information above, reconstruct the boxes of the grid and then compute areas\n",
        "import shapely\n",
        "from shapely import geometry\n",
        "from shapely.geometry import Polygon\n",
        "location_gdf[\"box\"] = location_gdf.apply(lambda s: shapely.geometry.box(s.geometry.x - 0.125,\n",
        "                                                            s.geometry.y - 0.0625,s.geometry.x + 0.125,\n",
        "                                                            s.geometry.y  + 0.0625), axis=1)"
      ]
    },
    {
      "cell_type": "code",
      "execution_count": 28,
      "metadata": {
        "id": "_cegkHOCw5Up"
      },
      "outputs": [],
      "source": [
        "# make another GeoPandas with box as main geometry\n",
        "box_gdf = location_gdf.set_geometry(\"box\")\n",
        "box_gdf = box_gdf.set_crs(\"epsg:4326\")"
      ]
    },
    {
      "cell_type": "code",
      "execution_count": null,
      "metadata": {
        "id": "hly9qNWQw5Up"
      },
      "outputs": [],
      "source": [
        "# Plot boxes\n",
        "sns.set_style(\"whitegrid\")\n",
        "ax = europe.plot(figsize=(30,15))\n",
        "box_gdf.to_crs(\"epsg:3035\").plot(ax=ax, markersize = 0.0000000001,facecolor = \"none\", edgecolor = \"green\")"
      ]
    },
    {
      "cell_type": "code",
      "execution_count": 30,
      "metadata": {
        "id": "AXLKzMGow5Uq",
        "outputId": "c4a4ccb4-dcc3-4c3a-99a4-e159d6f74654",
        "colab": {
          "base_uri": "https://localhost:8080/"
        }
      },
      "outputs": [
        {
          "output_type": "stream",
          "name": "stdout",
          "text": [
            "mean 15.25 min 11.59 max 17.78 std dev 1.78\n"
          ]
        }
      ],
      "source": [
        "# Compute Areas\n",
        "# now compute area of boxes in the right projection\n",
        "areas = box_gdf.to_crs(\"epsg:3035\").area\n",
        "# make it in km^2\n",
        "print(\"mean\",np.round(np.sqrt(areas.mean()/1000000),2),\n",
        "      \"min\", np.round(np.sqrt(areas.min()/1000000),2),\n",
        "      \"max\",np.round(np.sqrt(areas.max()/1000000),2),\n",
        "      \"std dev\", np.round(np.sqrt(areas/1000000).std(),2))"
      ]
    },
    {
      "cell_type": "code",
      "execution_count": null,
      "metadata": {
        "id": "R8ms8cVDw5Uq"
      },
      "outputs": [],
      "source": [
        "# Distribution of Area\n",
        "plt.hist(np.sqrt(areas/1000000), lw=1,ec=\"black\", alpha=0.5)\n",
        "plt.xlabel(\"Area\")\n",
        "plt.ylabel(\"Frequency\")"
      ]
    },
    {
      "cell_type": "code",
      "execution_count": 32,
      "metadata": {
        "id": "5h3Ba7UWw5Uq"
      },
      "outputs": [],
      "source": [
        "# add area of each box to its center\n",
        "location_gdf[\"area\"] = box_gdf.to_crs(\"epsg:3035\").area"
      ]
    },
    {
      "cell_type": "code",
      "execution_count": null,
      "metadata": {
        "id": "2LGmiYLpw5Uq"
      },
      "outputs": [],
      "source": [
        "location_gdf.head()"
      ]
    },
    {
      "cell_type": "code",
      "execution_count": null,
      "metadata": {
        "id": "DaktAQUgw5Ur"
      },
      "outputs": [],
      "source": [
        "# Correlation with Latitude\n",
        "plt.figure(figsize = (16,9))\n",
        "plt.scatter(location_gdf[\"Latitude\"], location_gdf[\"area\"])\n",
        "plt.ylabel(\"Box's area\")\n",
        "plt.xlabel(\"Latitude\")\n",
        "plt.title(\"Correlation between Box's area and Latitude\")"
      ]
    },
    {
      "cell_type": "code",
      "execution_count": 34,
      "metadata": {
        "id": "DMy740z_w5Ur",
        "outputId": "1b33847c-563c-4d63-c086-9f64e4e4ae61",
        "colab": {
          "base_uri": "https://localhost:8080/"
        }
      },
      "outputs": [
        {
          "output_type": "stream",
          "name": "stderr",
          "text": [
            "100%|██████████| 128/128 [00:20<00:00,  6.19it/s]\n"
          ]
        }
      ],
      "source": [
        "# assign area of box to stations\n",
        "crs_ = \"epsg:3035\"\n",
        "area_grid = dict()\n",
        "for i, stat in enumerate(tqdm(data_gdf_mt.station_id.unique())):\n",
        "    stat_loc = data_gdf_mt.loc[data_gdf_mt.station_id == stat,\"geometry\"].iloc[0]\n",
        "    index = np.argmin(np.abs(stat_loc.distance(location_gdf.to_crs(crs_).geometry)))\n",
        "    area_grid[stat] = location_gdf[\"area\"].iloc[index]\n",
        "# make dataframe and join to data\n",
        "area_grid = pd.DataFrame(area_grid.items())\n",
        "area_grid = area_grid.rename(columns = {0:\"station_id\",1:\"area_grid\"})\n",
        "data = data.set_index(\"station_id\").join(area_grid.set_index(\"station_id\"), rsuffix=3)\n",
        "data = data.reset_index()"
      ]
    },
    {
      "cell_type": "code",
      "execution_count": 35,
      "metadata": {
        "id": "9-hjvdj-w5Ut"
      },
      "outputs": [],
      "source": [
        "# Plot individual countries\n",
        "def plot_country(country_code):\n",
        "    sns.set_style(\"whitegrid\")\n",
        "    country = europe.loc[europe.CNTR_CODE == country_code,:]\n",
        "    fig, ax = plt.subplots(figsize=(16,9))\n",
        "\n",
        "    # Plot the first geospatial data layer\n",
        "    country.to_crs(\"epsg:3035\").plot(ax = ax)\n",
        "    # Save the original xlim and ylim values\n",
        "    xlim = ax.get_xlim()\n",
        "    ylim = ax.get_ylim()\n",
        "\n",
        "    # Plot the other geospatial data layers on top\n",
        "    data_gdf.to_crs(\"epsg:3035\").plot(ax = ax, color = \"darkorange\",edgecolor='black', marker = \"o\",markersize = 60, rasterized = True, figsize = (16,9))\n",
        "    box_gdf.to_crs(\"epsg:3035\").plot(ax = ax, facecolor = \"none\",edgecolor = \"green\", markersize = 1, rasterized = True)\n",
        "    location_gdf.to_crs(\"epsg:3035\").plot(ax = ax,color = \"black\", markersize = 1, rasterized = True)\n",
        "\n",
        "    # Restore the original xlim and ylim values\n",
        "    ax.set_xlim(xlim)\n",
        "    ax.set_ylim(ylim)\n",
        "    # Show the plot\n",
        "    #plt.savefig(\"/Users/andrea/Desktop/Thesis/Pic/border_country.pdf\", bbox_inches = \"tight\")"
      ]
    },
    {
      "cell_type": "code",
      "execution_count": null,
      "metadata": {
        "id": "MNO1GdEOw5Uv"
      },
      "outputs": [],
      "source": [
        "sns.set_style(\"whitegrid\")\n",
        "country = europe.loc[europe.CNTR_CODE == \"CH\",:]\n",
        "fig, ax = plt.subplots(figsize=(16,9))\n",
        "\n",
        "# Plot the first geospatial data layer\n",
        "country.to_crs(\"epsg:3035\").plot(ax = ax)\n",
        "# Save the original xlim and ylim values\n",
        "xlim = ax.get_xlim()\n",
        "ylim = ax.get_ylim()\n",
        "\n",
        "# Plot the other geospatial data layers on top\n",
        "data_gdf.to_crs(\"epsg:3035\").plot(ax = ax, color = \"darkorange\",edgecolor='black', marker = \"o\",markersize = 60, rasterized = True, figsize = (16,9))\n",
        "box_gdf.to_crs(\"epsg:3035\").plot(ax = ax, facecolor = \"none\",edgecolor = \"green\", markersize = 1, rasterized = True)\n",
        "location_gdf.to_crs(\"epsg:3035\").plot(ax = ax,color = \"black\", markersize = 1, rasterized = True)\n",
        "\n",
        "# Restore the original xlim and ylim values\n",
        "ax.set_xlim(xlim)\n",
        "ax.set_ylim(ylim)\n",
        "# Show the plot\n",
        "#plt.savefig(\"/Users/andrea/Desktop/Thesis/Pic/border_country.pdf\", bbox_inches = \"tight\")"
      ]
    },
    {
      "cell_type": "code",
      "execution_count": null,
      "metadata": {
        "id": "NFNp_WtDw5Ux"
      },
      "outputs": [],
      "source": [
        "# interactive plotting\n",
        "interact(plot_country, country_code = europe.CNTR_CODE.unique())"
      ]
    },
    {
      "cell_type": "code",
      "execution_count": 39,
      "metadata": {
        "id": "B_F9V8Byw5Uz",
        "outputId": "9299f79c-d33b-478f-8b93-c4e4d7d12d95",
        "colab": {
          "base_uri": "https://localhost:8080/"
        }
      },
      "outputs": [
        {
          "output_type": "stream",
          "name": "stderr",
          "text": [
            "100%|██████████| 123292/123292 [00:36<00:00, 3349.61it/s]\n"
          ]
        }
      ],
      "source": [
        "# transform OC to OA\n",
        "\n",
        "# conversion factor\n",
        "c = 1.52\n",
        "\n",
        "# to do: make it faster\n",
        "for i in tqdm(range(len(data))):\n",
        "    if data.OAtot_PMF.isnull().iloc[i]:\n",
        "        data.OAtot_PMF.iloc[i] = data.OC_PMF.iloc[i] * c"
      ]
    },
    {
      "cell_type": "code",
      "execution_count": null,
      "metadata": {
        "id": "Epvn22kcw5U0"
      },
      "outputs": [],
      "source": [
        "# save Data\n",
        "#data.to_csv(\"data_converted.csv\",index=False)\n",
        "# read in data\n",
        "#data2 = pd.read_csv(\"data_converted.csv\")\n",
        "#data2.time = pd.to_datetime(data2.time)"
      ]
    },
    {
      "cell_type": "code",
      "source": [
        "data2 = data.copy()"
      ],
      "metadata": {
        "id": "ZHFVkJhUmO5P"
      },
      "execution_count": 40,
      "outputs": []
    },
    {
      "cell_type": "code",
      "execution_count": 41,
      "metadata": {
        "id": "mTxqssHDw5U1"
      },
      "outputs": [],
      "source": [
        "# Function to visualize Time Series of OA vs CAMx\n",
        "# TO DO: look by station name and if two results, then 2 plots\n",
        "def visual_ts(station_id):\n",
        "    sns.set_style(\"whitegrid\")\n",
        "    plt.figure(figsize=(16,9))\n",
        "    station_data = data2.loc[data2.station_id == station_id,:]\n",
        "    plt.plot(station_data.time, station_data.OAtot_PMF, label = \"OA\")\n",
        "    plt.plot(station_data.time, station_data.OAtot_CAMX, label = \"CAMX\")\n",
        "    plt.legend()\n",
        "    plt.legend(loc='upper center', bbox_to_anchor=(0.5, -0.15),\n",
        "          fancybox=True, shadow=True, ncol=5)\n",
        "\n",
        "    plt.xticks(rotation = 45)\n",
        "    plt.ylabel(\"OA concentration\", fontsize = 18)\n",
        "    plt.title(station_id)"
      ]
    },
    {
      "cell_type": "code",
      "execution_count": null,
      "metadata": {
        "id": "SqRrrFe0w5U1"
      },
      "outputs": [],
      "source": [
        "# interact\n",
        "list_oa = data2.loc[data2.OAtot_PMF.isnull()==False, \"station_id\"].unique()\n",
        "interact(visual_ts, station_id = list_oa)"
      ]
    },
    {
      "cell_type": "code",
      "execution_count": 44,
      "metadata": {
        "id": "KSYifyaCw5U2"
      },
      "outputs": [],
      "source": [
        "# Simple plots from Online dataset\n",
        "def plot_online(station_name:str):\n",
        "    sns.set_style(\"whitegrid\")\n",
        "    plt.figure(figsize = (16,9))\n",
        "    data_online = data2.loc[data.dataset == \"online\",:]\n",
        "    station = data_online.loc[data_online.station == station_name,:]\n",
        "    station = station.loc[station.OAtot_PMF.isnull()==False,:]\n",
        "\n",
        "\n",
        "    plt.plot(station.time, station.OAtot_PMF, label = \"Observed OA\")\n",
        "    plt.plot(station.time, station.OAtot_CAMX, label = \"CAMx OA\")\n",
        "    plt.legend(loc='upper center', bbox_to_anchor=(0.5, -0.25),\n",
        "          fancybox=True, shadow=True, ncol=5, fontsize = 24)\n",
        "\n",
        "    plt.title(station_name, fontsize = 30)\n",
        "    plt.xlabel(\"Time\", fontsize = 24)\n",
        "    plt.ylabel(\"OA concentration\", fontsize = 24)\n",
        "    plt.xticks(fontsize=20, rotation = 30)\n",
        "    plt.yticks(fontsize=20)\n",
        "    #plt.savefig(\"/Users/andrea/Desktop/Thesis/Pic/\" + str(station_name) + \".pdf\", bbox_inches = \"tight\")\n"
      ]
    },
    {
      "cell_type": "code",
      "execution_count": null,
      "metadata": {
        "id": "0GPnhg45w5U2"
      },
      "outputs": [],
      "source": [
        "interact(plot_online, station_name= data2.loc[data2.dataset == \"online\",:].station.unique())"
      ]
    },
    {
      "cell_type": "code",
      "execution_count": null,
      "metadata": {
        "id": "aEA3TeMlw5U3"
      },
      "outputs": [],
      "source": [
        "sns.set_style(\"whitegrid\")\n",
        "fig, ax = plt.subplots(1,2, figsize = (24,9))\n",
        "data_online = data2.loc[data.dataset == \"online\",:]\n",
        "station = data_online.loc[data_online.station == \"Dublin\",:]\n",
        "station = station.loc[station.OAtot_PMF.isnull()==False,:]\n",
        "\n",
        "ax[0].plot(station.time, station.OAtot_PMF, label = \"Observed OA\")\n",
        "ax[0].plot(station.time, station.OAtot_CAMX, label = \"CAMx OA\")\n",
        "ax[0].set_title(\"Dublin\", fontsize = 30)\n",
        "ax[0].set_xlabel(\"Time\", fontsize = 24)\n",
        "ax[0].set_ylabel(\"OA\", fontsize = 24)\n",
        "ax[0].tick_params(axis=\"x\", labelsize=20, rotation = 30)\n",
        "ax[0].tick_params(axis=\"y\", labelsize=18)\n",
        "\n",
        "\n",
        "station = data_online.loc[data_online.station == \"Barcelona\",:]\n",
        "station = station.loc[station.OAtot_PMF.isnull()==False,:]\n",
        "\n",
        "ax[1].plot(station.time, station.OAtot_PMF, label = \"Observed OA\")\n",
        "ax[1].plot(station.time, station.OAtot_CAMX, label = \"CAMx OA\")\n",
        "ax[1].set_title(\"Barcelona\", fontsize = 30)\n",
        "ax[1].set_xlabel(\"Time\", fontsize = 24)\n",
        "ax[1].set_ylabel(\"OA\", fontsize = 24)\n",
        "ax[1].tick_params(axis=\"x\", labelsize=18, rotation = 30)\n",
        "ax[1].tick_params(axis=\"y\", labelsize=18)\n",
        "\n",
        "plt.legend(loc='upper center', bbox_to_anchor=(-0.15, -0.25),\n",
        "          fancybox=True, shadow=True, ncol=5, fontsize = 24)\n",
        "\n",
        "\n"
      ]
    }
  ],
  "metadata": {
    "kernelspec": {
      "display_name": "IML",
      "language": "python",
      "name": "python3"
    },
    "language_info": {
      "codemirror_mode": {
        "name": "ipython",
        "version": 3
      },
      "file_extension": ".py",
      "mimetype": "text/x-python",
      "name": "python",
      "nbconvert_exporter": "python",
      "pygments_lexer": "ipython3",
      "version": "3.8.12"
    },
    "orig_nbformat": 4,
    "colab": {
      "provenance": []
    }
  },
  "nbformat": 4,
  "nbformat_minor": 0
}
