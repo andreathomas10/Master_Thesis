{
  "nbformat": 4,
  "nbformat_minor": 0,
  "metadata": {
    "colab": {
      "provenance": [],
      "gpuType": "T4"
    },
    "kernelspec": {
      "name": "python3",
      "display_name": "Python 3"
    },
    "language_info": {
      "name": "python"
    },
    "accelerator": "GPU"
  },
  "cells": [
    {
      "cell_type": "code",
      "source": [
        "!pip install gpboost\n",
        "!pip install shap\n",
        "!pip install pdpbox\n",
        "!pip install tensorflow_decision_forests"
      ],
      "metadata": {
        "id": "_Z85rU9E3mSb"
      },
      "execution_count": null,
      "outputs": []
    },
    {
      "cell_type": "code",
      "source": [
        "# load packages\n",
        "import pandas as pd\n",
        "import numpy as np\n",
        "import gpboost as gpb\n",
        "import matplotlib.pyplot as plt\n",
        "import geopandas as gpd\n",
        "import warnings\n",
        "warnings.filterwarnings(\"ignore\")\n",
        "import pandas as pd\n",
        "import numpy as np\n",
        "import matplotlib.pyplot as plt\n",
        "import seaborn as sns\n",
        "from sklearn.metrics import r2_score, mean_absolute_percentage_error as mape, mean_squared_error as mse\n",
        "from pyarrow import feather as pq\n",
        "import geopandas as gpd\n",
        "import folium\n",
        "from folium import Marker\n",
        "from shapely import geometry\n",
        "from tqdm import tqdm\n",
        "pd.set_option('display.max_columns', None)\n",
        "from ipywidgets import interact\n",
        "import scipy\n",
        "from tqdm import tqdm\n",
        "from sklearn.model_selection import GroupKFold, GridSearchCV\n",
        "from sklearn.ensemble import RandomForestRegressor, GradientBoostingRegressor\n",
        "import os\n",
        "import shap\n",
        "import random"
      ],
      "metadata": {
        "id": "-hU_tDCSB2YF"
      },
      "execution_count": null,
      "outputs": []
    },
    {
      "cell_type": "code",
      "source": [
        "# mount drive\n",
        "from google.colab import drive\n",
        "drive.mount(\"/content/gdrive\")"
      ],
      "metadata": {
        "colab": {
          "base_uri": "https://localhost:8080/"
        },
        "id": "eev7MSWzAERo",
        "outputId": "31ef01b2-77d6-485e-c6b0-a6e5e47372cc"
      },
      "execution_count": null,
      "outputs": [
        {
          "output_type": "stream",
          "name": "stdout",
          "text": [
            "Mounted at /content/gdrive\n"
          ]
        }
      ]
    },
    {
      "cell_type": "code",
      "source": [
        "# load data for monthly performance\n",
        "data = pd.read_csv(\"/content/gdrive/MyDrive/Aurora_Thesis/data_converted.csv\")\n",
        "data.time = pd.to_datetime(data.time)\n",
        "# keep only where I have OA measurements\n",
        "data = data.loc[data.OAtot_PMF.isnull()== False,:]\n",
        "# need to manually add 2 station Id\n",
        "data.loc[data.station== \"Bologna (BO)\", \"station_id\"] = \"ID1999\"\n",
        "data.loc[data.station== \"San Pietro Capofiume (SPC)\", \"station_id\"] = \"ID1998\"\n",
        "# switch London data\n",
        "data[\"OAtot_2\"] = data.HOA_PMF + data.BBOA_PMF + data.OOAtot_PMF\n",
        "data.loc[data.station == \"London\",\"OAtot_PMF\"] = data.loc[data.station == \"London\",\"OAtot_2\"]\n",
        "# Remove Zurich 2017\n",
        "data = data.loc[(data.station != \"Zurich\") | (data.year != 2017),:]\n",
        "# CLEAN DATA\n",
        "# remove OA with less than 0.1\n",
        "data= data.loc[data.OAtot_PMF >= 0.1, :]\n",
        "# remove if CAMX is not present (i.e. equal to zero)\n",
        "data = data.loc[data.OAtot_CAMX != 0,:]\n",
        "# and stations with less than 30 obs.\n",
        "select = (data.groupby(\"station_id\")[\"OAtot_PMF\"].size() > 30).reset_index()\n",
        "data = data.set_index(\"station_id\")\n",
        "data = data.join(select.set_index(\"station_id\"), rsuffix = \"keep\")\n",
        "data = data.loc[ data.OAtot_PMFkeep == True, :]\n",
        "data = data.reset_index()"
      ],
      "metadata": {
        "id": "6UjEm0kXAEPB"
      },
      "execution_count": null,
      "outputs": []
    },
    {
      "cell_type": "code",
      "source": [
        "# remove Outliers\n",
        "robust_mode = True\n",
        "plot = 0\n",
        "# change here for desired number of plots\n",
        "max_plots = 1\n",
        "\n",
        "# count from which dataset we remove the outlier\n",
        "online_count = 0\n",
        "ebas_count = 0\n",
        "riurban_count = 0\n",
        "\n",
        "data[\"n_outlier\"] = np.zeros(len(data))\n",
        "\n",
        "if robust_mode:\n",
        "    start_0 = (data.OAtot_PMF==0).sum()\n",
        "    # remove outliers (or impute?), i.e. if measured OA > threshold\n",
        "    # compute upper and lower limit for outlier detection\n",
        "    upper = data.groupby([\"year\",\"month\",\"station_id\"])[\"OAtot_PMF\"].apply(lambda x: np.quantile(x, 0.75) + 3*scipy.stats.iqr(x)).reset_index()\n",
        "    lower = data.groupby([\"year\",\"month\",\"station_id\"])[\"OAtot_PMF\"].apply(lambda x: np.quantile(x, 0.25) - 3*scipy.stats.iqr(x)).reset_index()\n",
        "    #upper = data.groupby([\"year\",\"month\",\"station_id\"])[\"OAtot_PMF\"].apply(lambda x: np.median(x) + 3*scipy.stats.median_abs_deviation(x, scale=1)).reset_index()\n",
        "    #lower = data.groupby([\"year\",\"month\",\"station_id\"])[\"OAtot_PMF\"].apply(lambda x: np.median(x) - 3*scipy.stats.median_abs_deviation(x, scale=1)).reset_index()\n",
        "    for i in tqdm(range(len(data))):\n",
        "        station= data.iloc[i,:].station_id\n",
        "        year = data.iloc[i,:].year\n",
        "        month = data.iloc[i,:].month\n",
        "        # get upper and lower value of threshold\n",
        "        up = upper.loc[(upper.station_id == station) & (upper.year == year) & (upper.month == month), \"OAtot_PMF\"]\n",
        "        lo = lower.loc[(lower.station_id == station) & (lower.year == year) & (lower.month == month), \"OAtot_PMF\"]\n",
        "\n",
        "        # if threshold is negative replace it with 0\n",
        "        if lo.iloc[0] < 0:\n",
        "            lo.iloc[0] = 0\n",
        "        # check here if outside interval defined by [lower, upper]\n",
        "        if (data.iloc[i,:].OAtot_PMF > up.iloc[0]) | (data.iloc[i,:].OAtot_PMF < lo.iloc[0]):\n",
        "\n",
        "            # compute relative error\n",
        "            oa = data.iloc[i,:].OAtot_PMF\n",
        "            camx = data.iloc[i,:].OAtot_CAMX\n",
        "            r_e = (oa - camx)/(oa) # or divided by CAMX\n",
        "            # remove only if also big disagreement with CAMX\n",
        "            if r_e > 0.5:\n",
        "\n",
        "                if plot < max_plots:\n",
        "                    fig, ax = plt.subplots(2,1, figsize = (16,9))\n",
        "                    sns.set_style(\"whitegrid\")\n",
        "                    ax[0].plot(data.loc[(data.station_id == station)&(data.month == month) & (data.year == year),\"time\"],\n",
        "                    data.loc[(data.station_id == station)&(data.month == month) & (data.year == year),\"OAtot_PMF\"], label = \"OA\")\n",
        "                    ax[0].plot(data.loc[(data.station_id == station)&(data.month == month) & (data.year == year),\"time\"],\n",
        "                    data.loc[(data.station_id == station)&(data.month == month) & (data.year == year),\"OAtot_CAMX\"], label = \"CAMX\")\n",
        "                    ax[0].set_ylabel(\"OA\", fontsize = 24)\n",
        "                    #ax[0].set_xlabel(\"time\", fontsize = 24)\n",
        "                    #ax[0].set_xticklabels(ax[0].get_xticks(), fontsize = 20)\n",
        "                    ax[0].tick_params(axis='x', which='major', labelsize=14, rotation = 30)\n",
        "                    ax[0].tick_params(axis='y', which='major', labelsize=20)\n",
        "\n",
        "\n",
        "                    oa = data.loc[(data.station_id == station)&(data.month == month) & (data.year == year),\"OAtot_PMF\"]\n",
        "                    camx = data.loc[(data.station_id == station)&(data.month == month) & (data.year == year),\"OAtot_CAMX\"]\n",
        "                    r_e = (oa - camx)/(oa)\n",
        "                    ax[1].plot(data.loc[(data.station_id == station)&(data.month == month) & (data.year == year),\"time\"],\n",
        "                    r_e, color = \"green\", label = \"relative_error\")\n",
        "                    ax[1].axline( xy1 = (0,0.5),slope = 0, color = \"red\")\n",
        "                    ax[1].set_ylabel(\"Relative error\", fontsize = 24)\n",
        "\n",
        "\n",
        "                    # get axis\n",
        "                    # Save the original xlim and ylim values\n",
        "                    xlim = ax[0].get_xlim()\n",
        "\n",
        "                    ax[0].axline( xy1 = (0,up.iloc[0]),slope = 0, color = \"red\")\n",
        "                    ax[0].axline( xy1 = (0,lo.iloc[0]), slope = 0,  color = \"red\")\n",
        "\n",
        "                    stat_name = data.loc[data.station_id == station, \"station\"].iloc[0]\n",
        "                    ax[0].set_title(stat_name, fontsize = 24)\n",
        "                    # set axis\n",
        "                    ax[0].set_xlim(xlim)\n",
        "                    ax[1].set_xlim(xlim)\n",
        "                    ax[0].legend(fontsize = 24)\n",
        "                    ax[1].legend(fontsize = 24)\n",
        "                    ax[1].tick_params(axis='x', which='major', labelsize=14, rotation = 30)\n",
        "                    ax[1].tick_params(axis='y', which='major', labelsize=20)\n",
        "                # Save the plot\n",
        "                #file_path = os.path.join(folder_path, 'my_plot_' + str(station) + \".png\")\n",
        "                #plt.savefig(file_path)\n",
        "                plt.tight_layout()\n",
        "                plt.show()\n",
        "                plot += 1\n",
        "\n",
        "                # from which station\n",
        "                data.n_outlier.iloc[i] = data.n_outlier.iloc[i] + 1\n",
        "\n",
        "                # here could also do some imputation instead\n",
        "                data.OAtot_PMF.iloc[i] = 0\n",
        "\n",
        "                # count from which dataset\n",
        "                dataset = data.loc[data.station_id == station, \"dataset\"].iloc[0]\n",
        "                if dataset == \"online\":\n",
        "                    online_count += 1\n",
        "                elif dataset == \"ebas\":\n",
        "                    ebas_count += 1\n",
        "                else:\n",
        "                    riurban_count += 1\n",
        "\n",
        "end_0 = (data.OAtot_PMF == 0).sum()\n",
        "print(\"outlier removed:\", end_0 - start_0 )\n",
        "print(\" Online outliers:\", online_count)\n",
        "print(\" Ebas outliers:\", ebas_count)\n",
        "print(\" Riurban outliers:\", riurban_count)\n",
        "# keep data points different from 0\n",
        "data = data.loc[data.OAtot_PMF != 0, :]# target metric of choice"
      ],
      "metadata": {
        "id": "uHuLMeK9AEMe"
      },
      "execution_count": null,
      "outputs": []
    },
    {
      "cell_type": "code",
      "source": [
        "def my_mape(Y_true, Y_pred):\n",
        "    loss = (np.abs( (Y_true - Y_pred)/(Y_true + 1))).mean()\n",
        "    return loss"
      ],
      "metadata": {
        "id": "192lDxKiAEKD"
      },
      "execution_count": null,
      "outputs": []
    },
    {
      "cell_type": "code",
      "source": [
        "# targets: monthly or daily\n",
        "monthly = True\n",
        "if monthly:\n",
        "    # monthly performance\n",
        "    monthly_score = data.groupby([\"year\",\"month\",\"station_id\"])[[\"OAtot_PMF\",\"OAtot_CAMX\"]].apply(lambda x : my_mape(x.iloc[:, 0], x.iloc[:,1]))\n",
        "    monthly_score = monthly_score.reset_index().rename(columns = {0:\"score\"})\n",
        "else:\n",
        "    # daily performance (check)\n",
        "    data[\"day_performance\"] = np.abs((data[\"OAtot_PMF\"] - data[\"OAtot_CAMX\"]) / (data[\"OAtot_PMF\"] + 1))"
      ],
      "metadata": {
        "id": "9WK9EH4XAEHj"
      },
      "execution_count": null,
      "outputs": []
    },
    {
      "cell_type": "code",
      "source": [
        "# feature engineering (new features: elevation, wind x, wind y, add station angle, population, imd, ports, inorganics, OA proportions)\n",
        "# road_coverage\n",
        "data[\"rc_1_1000-rc_1_100\"] = data[\"road_class_1_1000\"] - data[\"road_class_1_100\"]\n",
        "data[\"rc_2_1000-rc_2_100\"] = data[\"road_class_2_1000\"] - data[\"road_class_2_100\"]\n",
        "data[\"rc_3_1000-rc_3_100\"] = data[\"road_class_3_1000\"] - data[\"road_class_3_100\"]\n",
        "# CAMX proportions of components of OA\n",
        "data[\"p_HOA\"] = data[\"HOA_CAMX\"] / data[\"OAtot_CAMX\"]\n",
        "data[\"p_BBOA\"] = data[\"BBOA_CAMX\"] / data[\"OAtot_CAMX\"]\n",
        "data[\"p_OOAtot\"] = data[\"OOAtot_CAMX\"] / data[\"OAtot_CAMX\"]\n",
        "\n",
        "# need to decorralate some land-use variables\n",
        "data[\"diff_agriculture\"] = data[\"agriculture1000\"] - data[\"agriculture500\"]\n",
        "data[\"diff_airports\"] = data[\"airports1000\"] - data[\"airports500\"]\n",
        "data[\"diff_barren\"] = data[\"barren1000\"] - data[\"barren500\"]\n",
        "data[\"diff_industrial\"] = data[\"industrial1000\"] - data[\"industrial500\"]\n",
        "data[\"diff_industrial_transport\"]= data[\"industrial_transport1000\"] - data[\"industrial_transport500\"]\n",
        "data[\"diff_natural_green\"] =  data[\"natural_green1000\"] - data[\"natural_green500\"]\n",
        "data[\"diff_ports\"] = data[\"ports1000\"] - data[\"ports500\"]\n",
        "data[\"diff_roads_rails\"] = data[\"roads_rails1000\"] - data[\"roads_rails500\"]\n",
        "data[\"diff_snow_ice\"] = data[\"snow_ice1000\"] - data[\"snow_ice500\"]\n",
        "data[\"diff_transport\"] = data[\"transport1000\"] - data[\"transport500\"]\n",
        "data[\"diff_urban_fabric\"] = data[\"urban_fabric1000\"] - data[\"urban_fabric500\"]\n",
        "data[\"diff_urban_green\"] = data[\"urban_green1000\"] - data[\"urban_green500\"]\n",
        "data[\"diff_water\"] = data[\"water1000\"] - data[\"water500\"]\n",
        "data[\"diff_wetlands\"] = data[\"wetlands1000\"] - data[\"wetlands500\"]\n",
        "# also for Population and IMD\n",
        "data[\"diff_population\"] = data[\"population_1000\"] - data[\"population_500\"]\n",
        "data[\"diff_imd\"] = data[\"imd1000\"] - data[\"imd500\"]\n",
        "\n",
        "# add day of week\n",
        "data[\"day_of_week\"] = data.time.dt.day_of_week\n",
        "\n",
        "if monthly:\n",
        "    # aggregate and take mean and std. dev.\n",
        "\n",
        "    # monthly features, like temp, pressure, wind, etc... include also std.dev.\n",
        "    mean_weather = data.groupby([\"year\",\"month\",\"station_id\"])[[\"temp_CAMX\",\"rh_CAMX\",\"press_CAMX\",\"ws_CAMX\", \"wd_CAMX\",\"pblh_CAMX\", \"wind_x_CAMX\", \"wind_y_CAMX\" ]].mean().reset_index()\n",
        "    std_weather = data.groupby([\"year\",\"month\",\"station_id\"])[[\"temp_CAMX\",\"rh_CAMX\",\"press_CAMX\",\"ws_CAMX\",\"wd_CAMX\",\"pblh_CAMX\",  \"wind_x_CAMX\", \"wind_y_CAMX\"]].std().reset_index()\n",
        "\n",
        "    # average OA levels and proportions of components and inorganics\n",
        "    # WHERE IS  \"EC_CAMX\" ?\n",
        "    oa_inorganics = data.groupby([\"year\",\"month\",\"station_id\"])[\"OAtot_PMF\",\"SO4_CAMX\", \"NH4_CAMX\", \"NO3_CAMX\", \"O3_CAMX\", \"NOx_CAMX\", \"p_HOA\",\"p_BBOA\", \"p_OOAtot\"].mean().reset_index()\n",
        "\n",
        "    # geospatial features, like distance to center, to grid edge, area size, Lat and Lon\n",
        "    geo_features = data.groupby([\"year\",\"month\",\"station_id\"])[[\"distance_mt\",\"distance_border\",\"area_grid\"]].mean().reset_index()\n",
        "\n",
        "    # land-use features: industrial, water, etc.. (Abhishek's data)\n",
        "    land_features = data.groupby([\"year\",\"month\",\"station_id\"])[[\"diff_agriculture\", \"diff_airports\", \"diff_barren\", \"diff_industrial\", \"diff_industrial_transport\",\n",
        "    \"diff_natural_green\", \"diff_ports\", \"diff_roads_rails\", \"diff_snow_ice\", \"diff_transport\", \"diff_urban_fabric\", \"diff_urban_green\", \"diff_water\", \"diff_wetlands\",\n",
        "    \"agriculture500\",\"airports500\", \"barren500\", \"industrial500\", \"industrial_transport500\", \"natural_green500\", \"ports500\", \"roads_rails500\", \"snow_ice500\",\n",
        "    \"transport500\", \"urban_fabric500\",\"urban_green500\", \"water500\", \"wetlands500\",\"diff_imd\",\"imd500\", \"diff_population\", \"population_500\",\"elevation\",\"Lat\",\"Lon\"]].mean().reset_index()\n",
        "\n",
        "    # road coverage\n",
        "    road_features = data.groupby([\"year\",\"month\",\"station_id\"])[[\"road_class_1_100\",\"rc_1_1000-rc_1_100\", \"rc_2_1000-rc_2_100\",\"road_class_2_100\",\n",
        "                                     \"rc_3_1000-rc_3_100\",\"road_class_3_100\"]].mean().reset_index()\n",
        "    road_features = road_features.fillna(0)\n",
        "\n",
        "    # add dataset\n",
        "    dataset_feature= data.groupby([\"year\",\"month\",\"station_id\"])[\"dataset\"].unique().reset_index()\n",
        "\n",
        "    # some cleaning\n",
        "    mean_weather= mean_weather.drop([\"year\",\"month\", \"station_id\"],axis = 1)\n",
        "    std_weather= std_weather.drop([\"year\",\"month\",\"station_id\"],axis = 1)\n",
        "    geo_features= geo_features.drop([\"year\",\"month\",\"station_id\"],axis = 1)\n",
        "    land_features= land_features.drop([\"year\",\"month\",\"station_id\"],axis = 1)\n",
        "    road_features=  road_features.drop([\"year\",\"month\",\"station_id\"],axis = 1)\n",
        "    #dataset_feature = dataset_feature.drop([\"year\",\"month\",\"station_id\"],axis = 1)\n",
        "    oa_inorganics = oa_inorganics.drop([\"year\",\"month\",\"station_id\"],axis = 1)\n",
        "\n",
        "    # replace std.dev. with CV\n",
        "    for col in std_weather.columns[3:]:\n",
        "        # add coefficent of Variation\n",
        "        data[col + \"cv\"] = std_weather[col] /mean_weather[col]\n",
        "\n",
        "   # some renaming\n",
        "    std_weather = std_weather.rename(columns={\"temp_CAMX\":\"temp_std\", \"rh_CAMX\":\"rh_std\", \"press_CAMX\":\"press_std\",\n",
        "                                            \"ws_CAMX\":\"ws_std\",\"wd_CAMX\":\"wd_std\",\"pblh_CAMX\":\"pbhl_std\", \"wind_x_CAMX\":\"wd_x_std\", \"wind_y_CAMX\":\"wd_y_std\"})\n",
        "\n",
        "    # create full matrix\n",
        "    data_fit = pd.concat( (monthly_score, mean_weather, std_weather, geo_features,\n",
        "                            land_features, road_features,\n",
        "                            oa_inorganics),axis = 1) #dataset_feature\n",
        "\n",
        "    # fill NA\n",
        "    data_fit = data_fit.fillna(0)\n",
        "\n",
        "    # remove std.dev.\n",
        "    for col in std_weather.columns[3:]:\n",
        "        # drop standard deviation\n",
        "        data_fit = data_fit.drop(col, axis = 1)\n",
        "\n",
        "# here if DAILY!\n",
        "else:\n",
        "    # daily values --> just get the right features\n",
        "    data_fit = data.loc[:, [\"station_id\",\"day_performance\", \"year\", \"month\",\"day_of_week\", \"temp_CAMX\",\"rh_CAMX\",\"press_CAMX\",\"ws_CAMX\", \"wd_CAMX\",\"pblh_CAMX\", \"wind_x_CAMX\", \"wind_y_CAMX\" ,\n",
        "    \"OAtot_PMF\", \"distance_mt\",\"distance_border\",\"area_grid\", \"diff_agriculture\", \"diff_airports\", \"diff_barren\", \"diff_industrial\", \"diff_industrial_transport\",\n",
        "    \"diff_natural_green\", \"diff_ports\", \"diff_roads_rails\", \"diff_snow_ice\", \"diff_transport\", \"diff_urban_fabric\", \"diff_urban_green\", \"diff_water\", \"diff_wetlands\",\n",
        "    \"agriculture500\",\"airports500\", \"barren500\", \"industrial500\", \"industrial_transport500\", \"natural_green500\", \"ports500\", \"roads_rails500\", \"snow_ice500\",\n",
        "    \"transport500\", \"urban_fabric500\",\"urban_green500\", \"water500\", \"wetlands500\",\"diff_imd\",\"imd500\", \"diff_population\", \"population_500\",\"elevation\",\"Lat\",\"Lon\",\n",
        "    \"road_class_1_100\",\"rc_1_1000-rc_1_100\", \"rc_2_1000-rc_2_100\",\"road_class_2_100\",\"rc_3_1000-rc_3_100\",\"road_class_3_100\",\n",
        "    \"SO4_CAMX\", \"NH4_CAMX\", \"NO3_CAMX\", \"O3_CAMX\", \"NOx_CAMX\",\"p_HOA\",\"p_BBOA\",\"p_OOAtot\"]]\n",
        "    # make dataset variable a dummy\n",
        "    # fill NA\n",
        "    data_fit = data_fit.fillna(0)"
      ],
      "metadata": {
        "id": "az6fwnm7AD__"
      },
      "execution_count": null,
      "outputs": []
    },
    {
      "cell_type": "code",
      "source": [
        "# check correlation\n",
        "#plt.figure(figsize = (16,9))\n",
        "#sns.heatmap(data_fit.corr())\n",
        "\n",
        "# or\n",
        "plt.figure(figsize = (30,20))\n",
        "mask = np.triu(np.ones_like(data_fit.corr()))\n",
        "sns.heatmap(data_fit.corr(), cmap=\"YlGnBu\", mask = mask)#"
      ],
      "metadata": {
        "id": "1euItu8gADZb"
      },
      "execution_count": null,
      "outputs": []
    },
    {
      "cell_type": "code",
      "source": [
        "# remove them if Monthly:\n",
        "data_fit = data_fit.drop([\"diff_snow_ice\", \"diff_airports\",\n",
        "                          \"airports500\", \"snow_ice500\"], axis = 1)"
      ],
      "metadata": {
        "id": "3jV5wwrJADVl"
      },
      "execution_count": null,
      "outputs": []
    },
    {
      "cell_type": "code",
      "source": [
        "### cluster highly correlated features\n",
        "from collections import defaultdict\n",
        "import scipy\n",
        "import matplotlib.pyplot as plt\n",
        "import numpy as np\n",
        "from scipy.stats import spearmanr\n",
        "from scipy.cluster import hierarchy\n",
        "from scipy.spatial.distance import squareform\n",
        "\n",
        "from sklearn.datasets import load_breast_cancer\n",
        "from sklearn.ensemble import RandomForestClassifier\n",
        "from sklearn.inspection import permutation_importance\n",
        "from sklearn.model_selection import train_test_split"
      ],
      "metadata": {
        "id": "rHtIdnUqADSe"
      },
      "execution_count": null,
      "outputs": []
    },
    {
      "cell_type": "code",
      "source": [
        "fig, (ax1, ax2) = plt.subplots(1, 2, figsize=(16, 9))\n",
        "# IMPORTANT: drop score (Y) from clustering step\n",
        "corr = spearmanr(data_fit.drop(\"score\",axis = 1)).correlation\n",
        "\n",
        "# Ensure the correlation matrix is symmetric\n",
        "corr = (corr + corr.T) / 2\n",
        "np.fill_diagonal(corr, 1)\n",
        "\n",
        "# We convert the correlation matrix to a distance matrix before performing\n",
        "# hierarchical clustering using Ward's linkage.\n",
        "distance_matrix = 1 - np.abs(corr)\n",
        "dist_linkage = hierarchy.ward(squareform(distance_matrix))\n",
        "dendro = hierarchy.dendrogram(\n",
        "    dist_linkage, labels=data_fit.drop(\"score\", axis = 1).columns, ax=ax1, leaf_rotation=90\n",
        ")\n",
        "dendro_idx = np.arange(0, len(dendro[\"ivl\"]))\n",
        "\n",
        "ax2.imshow(corr[dendro[\"leaves\"], :][:, dendro[\"leaves\"]])\n",
        "ax2.set_xticks(dendro_idx)\n",
        "ax2.set_yticks(dendro_idx)\n",
        "ax2.set_xticklabels(dendro[\"ivl\"], rotation=\"vertical\")\n",
        "ax2.set_yticklabels(dendro[\"ivl\"])\n",
        "fig.tight_layout()\n",
        "plt.show()"
      ],
      "metadata": {
        "id": "aU33pMjaAkKV"
      },
      "execution_count": null,
      "outputs": []
    },
    {
      "cell_type": "code",
      "source": [
        "# visually selected threshold\n",
        "t = 0.75\n",
        "# take first feature in each cluster\n",
        "cluster_ids = hierarchy.fcluster(dist_linkage, t, criterion=\"distance\")\n",
        "cluster_id_to_feature_ids = defaultdict(list)\n",
        "for idx, cluster_id in enumerate(cluster_ids):\n",
        "    cluster_id_to_feature_ids[cluster_id].append(idx)\n",
        "selected_features = [v[0] for v in cluster_id_to_feature_ids.values()]\n",
        "# make sure to droo the response \"score\"\n",
        "data_fit = pd.concat( (data_fit.score, data_fit.drop(\"score\",axis =1).iloc[:, selected_features]),axis = 1)"
      ],
      "metadata": {
        "id": "4YPFMrCvAkIQ"
      },
      "execution_count": null,
      "outputs": []
    },
    {
      "cell_type": "code",
      "source": [
        "# make dataset variable a dummy\n",
        "if monthly:\n",
        "    data_fit = pd.concat( (data_fit, pd.get_dummies(dataset_feature.dataset.map(lambda x: x[0]) ) ), axis = 1 )\n",
        "else:\n",
        "    data_fit = pd.concat( (data_fit, pd.get_dummies(data.dataset)), axis = 1 )"
      ],
      "metadata": {
        "id": "WwhG-5x2AkF6"
      },
      "execution_count": null,
      "outputs": []
    },
    {
      "cell_type": "code",
      "source": [
        "# check again\n",
        "sns.set_style(\"whitegrid\")\n",
        "plt.figure(figsize = (20,10))\n",
        "mask = np.triu(np.ones_like(data_fit.drop(\"score\",axis = 1).corr()))\n",
        "sns.heatmap(data_fit.drop(\"score\",axis = 1).corr(), cmap=\"YlGnBu\", mask = mask)#"
      ],
      "metadata": {
        "id": "b0b5HO0fADJ9"
      },
      "execution_count": null,
      "outputs": []
    },
    {
      "cell_type": "code",
      "source": [
        "# remove when score == NaN (just)\n",
        "if monthly:\n",
        "    data_fit = data_fit.loc[ data_fit.score.isnull() == False, :]\n",
        "else:\n",
        "    data_fit = data_fit.loc[ data_fit.day_performance.isnull() == False, :]"
      ],
      "metadata": {
        "id": "K_8pM7DgA6nR"
      },
      "execution_count": null,
      "outputs": []
    },
    {
      "cell_type": "code",
      "source": [
        "#add station name and save csv\n",
        "stat_name = pd.DataFrame(data.groupby(\"station_id\")[\"station\"].unique())\n",
        "coords = pd.DataFrame(data.groupby(\"station_id\")[\"Lat\",\"Lon\"].mean())\n",
        "data_fit = data_fit.set_index(\"station_id\").join(stat_name)\n",
        "data_fit = data_fit.join(coords)"
      ],
      "metadata": {
        "id": "vViCmj6lA-Nt"
      },
      "execution_count": null,
      "outputs": []
    },
    {
      "cell_type": "code",
      "source": [
        "data = data_fit.copy()\n",
        "# station name\n",
        "station = data.pop(\"station\")\n",
        "# station id\n",
        "groups = data.reset_index().station_id\n",
        "Y = data.pop(\"score\").reset_index(drop=True)\n",
        "# leave lat and lon there!!!\n",
        "Lat = data.loc[:,\"Lat\"]\n",
        "Lon = data.loc[:, \"Lon\"]\n",
        "# fill NA with zeros\n",
        "data = data.fillna(0)\n",
        "#data = data.reset_index(drop=True)"
      ],
      "metadata": {
        "id": "AgwJxgxCDSD1"
      },
      "execution_count": null,
      "outputs": []
    },
    {
      "cell_type": "code",
      "source": [
        "# nested CV to tune and compute prediction performance\n",
        "# groupKfold\n",
        "n_splits = 10  #10 for monthly # 5 for daily\n",
        "B = 100 # for permutation test\n",
        "kfold = GroupKFold(n_splits= n_splits)\n",
        "# store results\n",
        "res_forest = dict()\n",
        "res_boost = dict()\n",
        "res_gp = dict()\n",
        "observed = dict()\n",
        "\n",
        "# PERMUTATION TEST\n",
        "T_rf = np.zeros(n_splits)\n",
        "T_boost = np.zeros(n_splits)\n",
        "T_gp = np.zeros(n_splits)\n",
        "res_forest_perm =  pd.DataFrame( np.zeros((n_splits, B)))\n",
        "res_boost_perm = pd.DataFrame( np.zeros((n_splits, B)))\n",
        "res_gp_perm = pd.DataFrame( np.zeros((n_splits, B)))\n",
        "\n",
        "for idx, (train_idx, test_idx) in tqdm(enumerate(kfold.split(data,Y,groups))):\n",
        "   # get data\n",
        "    X_train = data.iloc[train_idx,:]\n",
        "    X_test = data.iloc[test_idx,:]\n",
        "    Y_train = Y.iloc[train_idx]\n",
        "    Y_test = Y.iloc[test_idx]\n",
        "\n",
        "    # train regressors\n",
        "    rf = RandomForestRegressor(random_state=99, n_jobs=-1, n_estimators=500) # try again with this number of estimators\n",
        "    boost = GradientBoostingRegressor(random_state=99, n_estimators = 200) # 500 for monthly\n",
        "    # GridSearch\n",
        "    innner_kfold = GroupKFold(n_splits=5) # 5 for monthly\n",
        "    inner_groups = groups.iloc[train_idx]\n",
        "    param_rf = {\"max_features\":[\"sqrt\",\"log2\"]}\n",
        "    param_boost = {\"max_depth\":[3,5,10],  \"learning_rate\":[0.001, 0.01,0.1]} # also 0.001 for monthly\n",
        "    clf = GridSearchCV(rf, param_grid= param_rf, cv = innner_kfold.split(X_train, Y_train, inner_groups))\n",
        "    clf.fit(X_train, Y_train)\n",
        "    clf2 = GridSearchCV(boost, param_grid= param_boost, cv = innner_kfold.split(X_train, Y_train, inner_groups))\n",
        "    clf2.fit(X_train, Y_train)\n",
        "\n",
        "    # GP-BOOST\n",
        "    data_train = gpb.Dataset(data=X_train, label=Y_train)\n",
        "    likelihood = \"gaussian\"\n",
        "    gp_model = gpb.GPModel(group_data=inner_groups, likelihood=likelihood)\n",
        "    num_boost_round = 1000\n",
        "    param_grid = {'learning_rate': [1,0.1,0.01, 0.001],\n",
        "                      'min_data_in_leaf': [10,100,1000],\n",
        "                      'max_depth': [1,2,3,5,10],\n",
        "                      'lambda_l2': [0,1,10]}\n",
        "    other_params = {'num_leaves': 2**10, 'verbose': 0}\n",
        "    # split in train and validation data\n",
        "    split_2 = GroupKFold(n_splits = 2)\n",
        "    for train_idx, test_idx in split_2.split(X_train,Y_train, inner_groups):\n",
        "      train_idx = train_idx\n",
        "      test_idx = test_idx\n",
        "    folds = [(train_idx, test_idx)]\n",
        "    opt_params = gpb.grid_search_tune_parameters(param_grid=param_grid, params=other_params,\n",
        "                                                    num_try_random=None, seed=1000, #n_folds = 4\n",
        "                                                    train_set=data_train, gp_model=gp_model, folds = folds, # folds = innner_kfold.split(X_train, Y_train, inner_groups), #stratified = True,\n",
        "                                                    use_gp_model_for_validation=True, verbose_eval=1,\n",
        "                                                    num_boost_round=num_boost_round, early_stopping_rounds=10, metric = \"mse\")\n",
        "    # Train\n",
        "    cvbst = gpb.cv(params=opt_params[\"best_params\"], train_set=data_train,\n",
        "               gp_model=gp_model, use_gp_model_for_validation=True, folds = folds, # innner_kfold.split(X_train, Y_train, inner_groups),\n",
        "               num_boost_round=1000, early_stopping_rounds=50, #original 10 # nfolds = 4\n",
        "                verbose_eval=True, show_stdv=False, seed=1)\n",
        "    metric_name = list(cvbst.keys())[0]\n",
        "    print(\"Best number of iterations: \" + str(np.argmin(cvbst[metric_name])))\n",
        "    best_num_iter = np.argmin(cvbst[metric_name])\n",
        "   #\n",
        "    if best_num_iter == 0:\n",
        "      best_num_iter = 1\n",
        "    bst = gpb.train(params= opt_params['best_params'], train_set=data_train,  gp_model=gp_model,\n",
        "                    num_boost_round=best_num_iter)\n",
        "    #gp_model.summary() # Estimated random effects model\n",
        "    gp_pred = bst.predict(data=X_test, group_data_pred=groups.iloc[test_idx], predict_var=True, pred_latent=True)\n",
        "\n",
        "    # store result per stations\n",
        "    stat_id = groups.iloc[test_idx].unique()\n",
        "    for station in stat_id:\n",
        "        x_test = data.loc[pd.Series(groups == station),:]\n",
        "        y_test = Y.loc[pd.Series(groups == station)]\n",
        "        res_forest[station] = clf.predict(x_test)\n",
        "        res_boost[station] = clf2.predict(x_test)\n",
        "        res_gp[station] = bst.predict(x_test, group_data_pred=groups.iloc[test_idx], predict_var=True, pred_latent=True)[\"fixed_effect\"]\n",
        "        observed[station] = y_test\n",
        "\n",
        "    # PERMUTATION TEST\n",
        "    # my test statistics\n",
        "    T_rf[idx] = mse(Y_test, clf.predict(X_test))\n",
        "    T_boost[idx] = mse(Y_test, clf2.predict(X_test))\n",
        "    T_gp[idx] = mse(Y_test, gp_pred['fixed_effect'])\n",
        "\n",
        "\n",
        "    # for B = 100, permute Y, fit model and store mse in vector\n",
        "    mse_rf = np.zeros(B)\n",
        "    mse_boost = np.zeros(B)\n",
        "    mse_gp = np.zeros(B)\n",
        "    random.seed(41)\n",
        "    for i in range(B):\n",
        "        # permute Y --> sample indeces uniformly without replacement\n",
        "        n = len(Y_train)\n",
        "        indeces_per =  random.sample(range(n), n)  # some function to sample indeces without replacement\n",
        "        Y_perm = Y_train.iloc[indeces_per]\n",
        "        # fit RF with optimal hypers\n",
        "        clf.best_estimator_.fit(X_train, Y_perm)\n",
        "        # fit boost with optimal hypers\n",
        "        clf2.best_estimator_.fit(X_train, Y_perm)\n",
        "\n",
        "        # For random effects model --> permute within cluster\n",
        "        Y_perm = Y_train.copy(deep = True)\n",
        "        for l in inner_groups.unique():\n",
        "          # permute Y with-in group l\n",
        "          Y_l = Y_train.loc[inner_groups == l]\n",
        "          Y_perm.loc[inner_groups == l] = np.array(Y_l.sample(frac = 1, random_state = 00))\n",
        "\n",
        "        # fit best gpmodel\n",
        "        data_perm = gpb.Dataset(data=X_train, label= Y_perm)\n",
        "        perm_trained = gpb.train(params=opt_params['best_params'], train_set=data_perm,  gp_model=gp_model,\n",
        "                    num_boost_round=best_num_iter)\n",
        "        # store result\n",
        "        mse_rf[i] = mse(Y_test,clf.predict(X_test) )\n",
        "        mse_boost[i] = mse(Y_test,clf2.predict(X_test) )\n",
        "        mse_gp[i] =  mse(Y_test, perm_trained.predict(X_test, group_data_pred=groups.iloc[test_idx], predict_var=True, pred_latent=True)[\"fixed_effect\"])\n",
        "\n",
        "    # store result\n",
        "    res_forest_perm.iloc[idx,:] = mse_rf\n",
        "    res_boost_perm.iloc[idx,:] = mse_boost\n",
        "    res_gp_perm.iloc[idx,:] = mse_gp\n"
      ],
      "metadata": {
        "id": "Z2twjh2RBvXD"
      },
      "execution_count": null,
      "outputs": []
    },
    {
      "cell_type": "code",
      "source": [
        "# save results of perm\n",
        "np.save('res_forest.npy', res_forest_perm)\n",
        "np.save('res_boost.npy', res_boost_perm)\n",
        "np.save('res_gp.npy', res_gp_perm)\n",
        "# save res of performance\n",
        "np.save('T_rf.npy', T_rf)\n",
        "np.save('T_boost.npy', T_boost)\n",
        "np.save('T_gp.npy', T_gp)"
      ],
      "metadata": {
        "id": "wA0OKmo-iM4R"
      },
      "execution_count": null,
      "outputs": []
    },
    {
      "cell_type": "code",
      "source": [
        "# get results\n",
        "mean_forest_perm = res_forest_perm.mean(axis = 0)\n",
        "mean_boost_perm = res_boost_perm.mean(axis = 0)\n",
        "mean_gp_perm = res_gp_perm.mean(axis = 0)\n",
        "plt.figsize(16,9)\n",
        "plt.hist(mean_forest_perm)\n",
        "plt.axvline(x = T_rf.mean())\n",
        "plt.title(\"Permutation Test\", fontsize = 24)\n",
        "plt.ylabel(\"Frequ\")"
      ],
      "metadata": {
        "id": "cic82IaeSPUo"
      },
      "execution_count": null,
      "outputs": []
    },
    {
      "cell_type": "code",
      "source": [
        "# distribution for boosting\n",
        "plt.hist(mean_boost_perm)\n",
        "plt.axvline(x = T_boost.mean())"
      ],
      "metadata": {
        "id": "NiqJGw12jCBC"
      },
      "execution_count": null,
      "outputs": []
    },
    {
      "cell_type": "code",
      "source": [
        "# distribution for GP-Boost\n",
        "plt.hist(mean_gp_perm)\n",
        "plt.axvline(x = T_gp.mean())"
      ],
      "metadata": {
        "id": "QRCVHXFLrPmD"
      },
      "execution_count": null,
      "outputs": []
    },
    {
      "cell_type": "code",
      "source": [
        "# prediction performance\n",
        "print(\"rf\", T_rf.mean())\n",
        "print(\"boost\", T_boost.mean())\n",
        "print(\"gp\", T_gp.mean())"
      ],
      "metadata": {
        "colab": {
          "base_uri": "https://localhost:8080/"
        },
        "id": "YlIC8pxkSRXh",
        "outputId": "34423382-06a1-4bb8-fc1f-f7d6a4cef6e1"
      },
      "execution_count": null,
      "outputs": [
        {
          "output_type": "stream",
          "name": "stdout",
          "text": [
            "rf 0.08308823168029197\n",
            "boost 0.10230933510992819\n",
            "gp 0.09424329232710803\n"
          ]
        }
      ]
    },
    {
      "cell_type": "code",
      "source": [
        "# empirical p-values\n",
        "1/101"
      ],
      "metadata": {
        "colab": {
          "base_uri": "https://localhost:8080/"
        },
        "id": "yz_0zWTosIxz",
        "outputId": "1f72831b-ef14-4d1e-aaf4-c48041e6940e"
      },
      "execution_count": null,
      "outputs": [
        {
          "output_type": "execute_result",
          "data": {
            "text/plain": [
              "0.009900990099009901"
            ]
          },
          "metadata": {},
          "execution_count": 20
        }
      ]
    },
    {
      "cell_type": "markdown",
      "source": [
        "# Obtain Feature Importance Metrics"
      ],
      "metadata": {
        "id": "jk47Ci2i66qO"
      }
    },
    {
      "cell_type": "code",
      "source": [
        "# Define random effects model\n",
        "data_train = gpb.Dataset(data=data, label=Y)\n",
        "split = GroupKFold(n_splits = 8)\n",
        "for train_idx, test_idx in split.split(data, Y, groups):\n",
        "  train_idx = train_idx\n",
        "  test_idx = test_idx\n",
        "folds = [(train_idx, test_idx)]\n",
        "likelihood = \"gaussian\"\n",
        "gp_model = gpb.GPModel(group_data=groups, likelihood=likelihood)\n",
        "num_boost_round = 1000\n",
        "param_grid = {'learning_rate': [1,0.1,0.01, 0.001, 0.0001],\n",
        "                  'min_data_in_leaf': [10,100,1000],\n",
        "                  'max_depth': [1,2,3,5,10],\n",
        "                  'lambda_l2': [0,1,10]}\n",
        "other_params = {'num_leaves': 2**10, 'verbose': 0}\n",
        "opt_params = gpb.grid_search_tune_parameters(param_grid=param_grid, params=other_params,\n",
        "                                                 num_try_random=None, seed=1000, nfold=4,\n",
        "                                                 train_set=data_train, # folds = folds,\n",
        "                                                 gp_model=gp_model,\n",
        "                                                 use_gp_model_for_validation=True, verbose_eval=1,\n",
        "                                                 num_boost_round=num_boost_round, early_stopping_rounds=10, metric = \"mse\")\n",
        "print(opt_params)\n",
        "gp_model = gpb.GPModel(group_data=groups, likelihood=likelihood)\n",
        "cvbst = gpb.cv(params=opt_params[\"best_params\"], train_set=data_train,\n",
        "               gp_model=gp_model, use_gp_model_for_validation=True,nfold=4,#folds = folds\n",
        "               num_boost_round=1000, early_stopping_rounds=50, #original 10\n",
        "               verbose_eval=True, show_stdv=False, seed=1)\n",
        "metric_name = list(cvbst.keys())[0]\n",
        "print(\"Best number of iterations: \" + str(np.argmin(cvbst[metric_name])))\n",
        "best_num_iter = np.argmin(cvbst[metric_name])\n",
        "# Train\n",
        "bst = gpb.train(params=opt_params[\"best_params\"], train_set=data_train,  gp_model=gp_model,\n",
        "                num_boost_round=best_num_iter)\n",
        "gp_model.summary() # Estimated random effects model"
      ],
      "metadata": {
        "id": "q9RH7FFmRq6l"
      },
      "execution_count": null,
      "outputs": []
    },
    {
      "cell_type": "code",
      "source": [
        "print(\"std.dev of noise term\", np.sqrt(0.0502))\n",
        "print(\"std.dev of random effect\", np.sqrt(0.0174))\n",
        "print(\"std.dev of Y\", Y.std())"
      ],
      "metadata": {
        "id": "38Nnvn-yMpQf",
        "colab": {
          "base_uri": "https://localhost:8080/"
        },
        "outputId": "0df65e39-41fd-469b-990b-bb17b27e97f2"
      },
      "execution_count": null,
      "outputs": [
        {
          "output_type": "stream",
          "name": "stdout",
          "text": [
            "std.dev of noise term 0.2240535650240808\n",
            "std.dev of random effect 0.1319090595827292\n",
            "std.dev of Y 0.3241875628233835\n"
          ]
        }
      ]
    },
    {
      "cell_type": "code",
      "source": [
        "# 1. Predict latent variable (pred_latent=True) and variance\n",
        "pred = bst.predict(data=data, group_data_pred=groups,\n",
        "                   predict_var=True, pred_latent=True)\n",
        "# pred['fixed_effect']: predictions for the latent fixed effects / tree ensemble\n",
        "# pred['random_effect_mean']: mean predictions for the random effects\n",
        "# pred['random_effect_cov']: predictive (co-)variances (if predict_var=True) of the random effects\n",
        "# 2. Predict response variable (pred_latent=False)\n",
        "#pred_resp = bst.predict(data=data, group_data_pred=groups,\n",
        "                     #   predict_var=True, pred_latent=False)\n",
        "# pred_resp['response_mean']: mean predictions of the response variable\n",
        "#   which combines predictions from the tree ensemble and the random effects\n",
        "# pred_resp['response_var']: predictive (co-)variances (if predict_var=True)\n",
        "\n",
        "# Visualize fitted response variable\n",
        "fig1, ax1 = plt.subplots()\n",
        "ax1.scatter(Y, pred_resp['response_mean'], linewidth=2, label=\"Pred response\")\n",
        "ax1.set_title(\"Data and predicted response variable\")\n",
        "ax1.legend()\n",
        "plt.show(block=False)"
      ],
      "metadata": {
        "id": "g6raUl262pbt"
      },
      "execution_count": null,
      "outputs": []
    },
    {
      "cell_type": "code",
      "source": [
        "# SHAP values and dependence plots for GP-Boost (note: shap version>=0.36.0 is required)\n",
        "import shap\n",
        "shap_values = shap.TreeExplainer(bst).shap_values(data)\n",
        "shap.summary_plot(shap_values, data, max_display = 10)\n",
        "#shap.dependence_plot(\"ws_CAMX\", shap_values, data.copy())\n",
        "# SHAP interaction values\n",
        "##shap_interaction_values = shap.TreeExplainer(bst).shap_interaction_values(shap_values)\n",
        "#shap.summary_plot(shap_interaction_values, data.copy())\n",
        "#shap.dependence_plot((\"month\", \"ws_CAMX\"), shap_interaction_values, data.copy(), display_features=data.copy())"
      ],
      "metadata": {
        "id": "kMLgCRR7SXR6"
      },
      "execution_count": null,
      "outputs": []
    },
    {
      "cell_type": "code",
      "source": [
        "# Partial dependence plot\n",
        "import pdpbox\n",
        "from pdpbox import pdp\n",
        "# note: pdpbox can also be run with newer versions of matplotlib. In case\n",
        "#       problems occurr during installation, try \"pip install pdpbox --no-dependencies\"\n",
        "\n",
        "# Note: for the pdpbox package, the data needs to be a pandas DataFrame\n",
        "pdp_dist = pdp.PDPIsolate(model=bst, df = data.copy(deep=True), model_features=data.copy(deep=True).columns, # need to copy() since PDPIsolate modifies the df\n",
        "                           feature='month', feature_name='month',\n",
        "                           n_classes=0, num_grid_points=2000,\n",
        "                           predict_kwds={\"ignore_gp_model\": True})\n",
        "fig, axes = pdp_dist.plot(engine='matplotlib', plot_lines=True, frac_to_plot=1)"
      ],
      "metadata": {
        "id": "6sAkd1_0SXXc"
      },
      "execution_count": null,
      "outputs": []
    },
    {
      "cell_type": "code",
      "source": [
        "# Interaction plot\n",
        "interact = pdp.PDPInteract(model=bst, df= data, model_features=data.columns,\n",
        "                             features=[\"month\", \"ws_CAMX\"],\n",
        "                             feature_names=[\"month\", \"ws_CAMX\"],\n",
        "                             n_classes=0, predict_kwds={\"ignore_gp_model\": True})\n",
        "fig, axes = interact.plot(engine='matplotlib', plot_type='contour')\n",
        "\"\"\"\n",
        "# Note: the above code is for pdpbox version 0.3.0 or latter, for earlier versions use:\n",
        "# pdp_dist = pdp.pdp_isolate(model=bst, dataset=Xpd, model_features=Xpd.columns,\n",
        "#                            feature='variable_0', num_grid_points=50,\n",
        "#                            predict_kwds={\"ignore_gp_model\": True})\n",
        "# ax = pdp.pdp_plot(pdp_dist, 'variable_0', plot_lines=True, frac_to_plot=0.1)\n",
        "# interact = pdp.pdp_interact(model=bst, dataset=Xpd, model_features=Xpd.columns,\n",
        "#                              features=['variable_0','variable_1'],\n",
        "#                              predict_kwds={\"ignore_gp_model\": True})\n",
        "# pdp.pdp_interact_plot(interact, ['variable_0','variable_1'], x_quantile=True,\n",
        "#                       plot_type='contour', plot_pdp=True) # Ignore the error message 'got an unexpected keyword argument 'contour_label_fontsize'' in 'pdp_interact_plot'\n",
        "\"\"\""
      ],
      "metadata": {
        "id": "ABGffX4RSXUn"
      },
      "execution_count": null,
      "outputs": []
    },
    {
      "cell_type": "code",
      "source": [
        "# SHAP AND PDPs for Random Forest\n",
        "import shap\n",
        "rf = RandomForestRegressor(random_state = 10)\n",
        "rf.fit(data, Y)\n",
        "shap_values = shap.TreeExplainer(rf).shap_values(data)\n",
        "shap.summary_plot(shap_values, data, max_display = 10)\n"
      ],
      "metadata": {
        "id": "Ff5QwGTGZPDV"
      },
      "execution_count": null,
      "outputs": []
    },
    {
      "cell_type": "code",
      "source": [
        "import pdpbox\n",
        "from pdpbox import pdp\n",
        "# note: pdpbox can also be run with newer versions of matplotlib. In case\n",
        "#       problems occurr during installation, try \"pip install pdpbox --no-dependencies\"\n",
        "\n",
        "# Note: for the pdpbox package, the data needs to be a pandas DataFrame\n",
        "pdp_dist = pdp.PDPIsolate(model=rf, df = data.copy(deep=True), model_features=data.copy(deep=True).columns, # need to copy() since PDPIsolate modifies the df\n",
        "                           feature='pblh_CAMX', feature_name='pblh_CAMX',\n",
        "                           n_classes=0, num_grid_points=2000)\n",
        "fig, axes = pdp_dist.plot(engine='matplotlib', plot_lines=True, frac_to_plot=1)"
      ],
      "metadata": {
        "id": "ppaH-gpGm4L9"
      },
      "execution_count": null,
      "outputs": []
    },
    {
      "cell_type": "code",
      "source": [
        "# ONE SPLITS FOR PERMUTATION IMPORTANCE (Random Forest)\n",
        "from sklearn.model_selection import GroupShuffleSplit\n",
        "from sklearn.model_selection import GroupKFold\n",
        "X = data.copy()\n",
        "rf = RandomForestRegressor(random_state=99, n_jobs=-1, n_estimators=500)\n",
        "# train on half and evaluate permuatation on second half\n",
        "train_inds, test_inds = next(GroupShuffleSplit(random_state = 14).split(X, Y, groups))\n",
        "X_train, X_test, y_train, y_test = X.iloc[train_inds,:], X.iloc[test_inds,:], Y.iloc[train_inds], Y.iloc[test_inds]\n",
        "# get cv folds from training (to chose hyper-parameter)\n",
        "groups_inner = groups.iloc[train_inds]\n",
        "folds_inner = GroupKFold(n_splits = 5)\n",
        "# find best hyper-parameter and train\n",
        "param_rf = {\"max_features\":[\"sqrt\",\"log2\"]}\n",
        "clf = GridSearchCV(rf, param_rf,cv = folds_inner.split(X_train, y_train, groups_inner) )\n",
        "clf.fit(X_train, y_train)"
      ],
      "metadata": {
        "id": "B_5wygrPfqde"
      },
      "execution_count": null,
      "outputs": []
    },
    {
      "cell_type": "code",
      "source": [
        "# MULTIPLE SPLITS FOR PERMUTATION IMPORTANCE (Random Forest) --> the right procedure\n",
        "n_splits = 10\n",
        "kfold = GroupKFold(n_splits= n_splits)\n",
        "for idx, (train_idx, test_idx) in tqdm(enumerate(kfold.split(data,Y,groups))):\n",
        "   # get data\n",
        "    X_train = data.iloc[train_idx,:]\n",
        "    X_test = data.iloc[test_idx,:]\n",
        "    Y_train = Y.iloc[train_idx]\n",
        "    Y_test = Y.iloc[test_idx]\n",
        "\n",
        "    # train regressors\n",
        "    rf = RandomForestRegressor(random_state=99, n_jobs=-1, n_estimators=200)\n",
        "    rf.fit(X_train, Y_train)\n",
        "\n",
        "    if idx == 0:\n",
        "      result = permutation_importance(rf, X_test, Y_test, n_repeats=2, random_state=42)\n",
        "      result_mean = result.importances_mean/ n_splits\n",
        "      result_importances = result.importances/ n_splits\n",
        "\n",
        "    else:\n",
        "      result = permutation_importance(rf, X_test, Y_test, n_repeats=2, random_state=42)\n",
        "      result_mean += result.importances_mean / n_splits\n",
        "      result_importances += result.importances / n_splits"
      ],
      "metadata": {
        "colab": {
          "base_uri": "https://localhost:8080/"
        },
        "id": "rFxpoO9c9gnz",
        "outputId": "066ec9dd-6dc3-498f-810d-33305d0b364b"
      },
      "execution_count": null,
      "outputs": [
        {
          "output_type": "stream",
          "name": "stderr",
          "text": [
            "10it [01:21,  8.13s/it]\n"
          ]
        }
      ]
    },
    {
      "cell_type": "code",
      "source": [
        "# Plot top 10 features\n",
        "perm_sorted_idx = result_mean.argsort()\n",
        "sns.set_style(\"whitegrid\")\n",
        "fig, ax1 = plt.subplots(1,1, figsize = (16,9))\n",
        "ax1.boxplot(\n",
        "    result_importances[perm_sorted_idx][-10:].T,\n",
        "    vert=False,\n",
        "    labels=X_test.columns[perm_sorted_idx][-10:], patch_artist=True\n",
        ")\n",
        "ax1.set_yticklabels(labels=ax1.get_yticklabels(), fontsize=20)\n",
        "ax1.set_xticklabels(labels=ax1.get_xticklabels(), fontsize=20)"
      ],
      "metadata": {
        "id": "mFh3JjnXCqrD"
      },
      "execution_count": null,
      "outputs": []
    },
    {
      "cell_type": "markdown",
      "source": [
        "# Additional visualization with proximity plots."
      ],
      "metadata": {
        "id": "XrNAwOSc7SS2"
      }
    },
    {
      "cell_type": "code",
      "source": [
        "def compute_proximity(leaves, step_size=100):\n",
        "  \"\"\"Computes the proximity between each pair of examples.\n",
        "\n",
        "  Args:\n",
        "    leaves: A matrix of shape [num_example, num_tree] where the value [i,j] is\n",
        "      the index of the leaf reached by example \"i\" in the tree \"j\".\n",
        "    step_size: Size of the block of examples for the computation of the\n",
        "      proximity. Does not impact the results.\n",
        "\n",
        "  Returns:\n",
        "    The example pair-wise proximity matrix of shape [n,n] with \"n\" the number of\n",
        "    examples.\n",
        "  \"\"\"\n",
        "\n",
        "  example_idx = 0\n",
        "  num_examples = leaves.shape[0]\n",
        "  t_leaves = np.transpose(leaves)\n",
        "  proximities = []\n",
        "\n",
        "  # Instead of computing the proximity in between all the examples at the same\n",
        "  # time, we compute the similarity in blocks of \"step_size\" examples. This\n",
        "  # makes the code more efficient with the the numpy broadcast.\n",
        "  while example_idx < num_examples:\n",
        "    end_idx = min(example_idx + step_size, num_examples)\n",
        "    proximities.append(\n",
        "        np.mean(\n",
        "            leaves[..., np.newaxis] == t_leaves[:,\n",
        "                                                example_idx:end_idx][np.newaxis,\n",
        "                                                                     ...],\n",
        "            axis=1))\n",
        "    example_idx = end_idx\n",
        "  return np.concatenate(proximities, axis=1)"
      ],
      "metadata": {
        "id": "IGRIQC2ZM9WE"
      },
      "execution_count": null,
      "outputs": []
    },
    {
      "cell_type": "code",
      "source": [
        "# t-SNE for RF\n",
        "# Install TensorFlow Dececision Forests and the dependencies used in this colab.\n",
        "import tensorflow_decision_forests as tfdf\n",
        "import matplotlib.colors as mcolors\n",
        "import math\n",
        "import os\n",
        "import numpy as np\n",
        "import pandas as pd\n",
        "from sklearn.manifold import TSNE\n",
        "import matplotlib.pyplot as plt\n",
        "from plotly.offline import iplot\n",
        "import plotly.graph_objs as go\n",
        "# convert it into a TensorFlow dataset.\n",
        "train_ds = tfdf.keras.pd_dataframe_to_tf_dataset(pd.concat((X_train, Y_train),axis = 1), label=\"score\", task=tfdf.keras.Task.REGRESSION)\n",
        "test_df = pd.concat((X_test, Y_test),axis = 1)\n",
        "test_ds = tfdf.keras.pd_dataframe_to_tf_dataset(test_df, label=\"score\", task=tfdf.keras.Task.REGRESSION)\n",
        "# Train a Random Forest\n",
        "model = tfdf.keras.RandomForestModel(num_trees=1000,task=tfdf.keras.Task.REGRESSION )\n",
        "model.fit(train_ds)\n",
        "leaves = model.predict_get_leaves(test_ds)\n",
        "print(\"The leaf indices:\\n\", leaves)\n",
        "proximity = compute_proximity(leaves)\n",
        "print(\"The shape of proximity is\", proximity.shape)\n",
        "distance = 1 - proximity\n",
        "t_sne = TSNE(\n",
        "    # Number of dimensions to display. 3d is also possible.\n",
        "    n_components=2,\n",
        "    # Control the shape of the projection. Higher values create more\n",
        "    # distinct but also more collapsed clusters. Can be in 5-50.\n",
        "    perplexity=20,\n",
        "    metric=\"precomputed\",\n",
        "    init=\"random\",\n",
        "    verbose=1,\n",
        "    learning_rate=\"auto\").fit_transform(distance)\n"
      ],
      "metadata": {
        "id": "ffaQ_Hu7f-hb"
      },
      "execution_count": null,
      "outputs": []
    },
    {
      "cell_type": "code",
      "source": [
        "fig, ax = plt.subplots(1, 1, figsize=(8, 8))\n",
        "ax.grid(False)\n",
        "\n",
        "# Color the points according to the label value. (would be nice a color scale)\n",
        "ax.scatter(\n",
        "    t_sne[:, 0], t_sne[:, 1], c=np.log(test_df[\"score\"]), cmap = \"CMRmap\", linewidths=0.5, marker=\"o\", s=30) #c=colors,\n",
        "# add color legend"
      ],
      "metadata": {
        "id": "h0tphN6eO-fZ"
      },
      "execution_count": null,
      "outputs": []
    },
    {
      "cell_type": "code",
      "source": [
        "# Number of columns and rows in the multi-plot.\n",
        "num_plot_cols = 5\n",
        "num_plot_rows = math.ceil(test_df.shape[1] / num_plot_cols)\n",
        "\n",
        "# Color palette for the categorical features.\n",
        "palette = list(mcolors.TABLEAU_COLORS.values())\n",
        "\n",
        "# Create the plot\n",
        "plot_size_in = 3.5\n",
        "fig, axs = plt.subplots(\n",
        "    num_plot_rows,\n",
        "    num_plot_cols,\n",
        "    figsize=(num_plot_cols * plot_size_in, num_plot_rows * plot_size_in))\n",
        "\n",
        "# Hide the borders.\n",
        "for row in axs:\n",
        "  for ax in row:\n",
        "    ax.set_axis_off()\n",
        "\n",
        "for col_idx, col_name in enumerate(test_df):\n",
        "  ax = axs[col_idx // num_plot_cols, col_idx % num_plot_cols]\n",
        "\n",
        "  colors = test_df[col_name]\n",
        "  if colors.dtypes in [str, object]:\n",
        "    # Use the color palette on categorical features.\n",
        "    unique_values = list(colors.unique())\n",
        "    colors = colors.map(\n",
        "        lambda x: palette[unique_values.index(x) % len(palette)])\n",
        "\n",
        "  ax.set_title(col_name)\n",
        "  ax.scatter(t_sne[:, 0], t_sne[:, 1], c=colors.values, linewidths=0.5,\n",
        "      marker=\"o\", s=5)"
      ],
      "metadata": {
        "id": "LsTQzqSIQGGJ"
      },
      "execution_count": null,
      "outputs": []
    },
    {
      "cell_type": "markdown",
      "source": [
        "# Inference for Random Effects form GP-Boost model"
      ],
      "metadata": {
        "id": "2zidnGea7b3G"
      }
    },
    {
      "cell_type": "code",
      "source": [
        "# plot for Europe\n",
        "#load europe map\n",
        "path2 = \"/content/gdrive/MyDrive/Aurora_Thesis/NUTS_RG_20M_2021_3035.shp\"\n",
        "europe = gpd.read_file(path2)\n",
        "# Look at Coordinate Reference System (CRS)\n",
        "print(europe.crs)\n",
        "# Select Level Code\n",
        "europe = europe.loc[europe.LEVL_CODE == 1,:]\n",
        "# Remove remore French island\n",
        "europe = europe.loc[europe.NAME_LATN != \"RUP FR — Régions Ultrapériphériques Françaises\",:]\n"
      ],
      "metadata": {
        "colab": {
          "base_uri": "https://localhost:8080/"
        },
        "id": "MkXDYOV0G0hK",
        "outputId": "62deeaf0-3d2a-4e17-bcf5-5c25973bad7e"
      },
      "execution_count": null,
      "outputs": [
        {
          "output_type": "stream",
          "name": "stdout",
          "text": [
            "EPSG:3035\n"
          ]
        }
      ]
    },
    {
      "cell_type": "code",
      "source": [
        "# MAP FOR 3 DATASETS\n",
        "data.columns\n",
        "data[\"dataset\"] = 0\n",
        "for i in range(len(data)):\n",
        "  if data.online.iloc[i] == 1:\n",
        "    data[\"dataset\"].iloc[i] = \"online\"\n",
        "  elif data.riurban.iloc[i] ==1:\n",
        "    data[\"dataset\"].iloc[i] = \"riurban\"\n",
        "  else:\n",
        "    data[\"dataset\"].iloc[i] = \"ebas\""
      ],
      "metadata": {
        "id": "XTPeWCYUS8jM"
      },
      "execution_count": null,
      "outputs": []
    },
    {
      "cell_type": "code",
      "source": [
        "# make data.frame with stat_id, random effect, lat and lon\n",
        "res = pd.concat( (pd.DataFrame(pred['random_effect_mean']), data.reset_index(drop=True).dataset, groups, Lat.reset_index(drop=True), Lon.reset_index(drop=True), station.reset_index(drop=True), Y.reset_index(drop=True)),axis = 1)\n",
        "res = res.rename(columns={0:\"random_effect\"})\n",
        "res_gpd = gpd.GeoDataFrame(data = res, geometry= gpd.points_from_xy(x = res.Lon, y =  res.Lat), crs = 4326)\n",
        "res_gpd[\"abs_re\"] = np.abs(res_gpd.random_effect)\n",
        "res_gpd[\"fixed_effect\"] = pred['fixed_effect']"
      ],
      "metadata": {
        "id": "McHUqOucIXF3"
      },
      "execution_count": null,
      "outputs": []
    },
    {
      "cell_type": "code",
      "source": [
        "sns.set_style(\"whitegrid\")\n",
        "ax = europe.plot(figsize=(16,9), rasterized = True)\n",
        "res_gpd.to_crs(\"epsg:3035\").plot(ax = ax,\n",
        "                                    column = res_gpd[\"random_effect\"],marker = \"o\",\n",
        "                                    cmap='plasma',legend=True,\n",
        "                                  rasterized = True, legend_kwds={\"label\": \"Random Effect\", \"orientation\": \"vertical\", 'shrink': 1}) #'shrink': 0.7\n",
        "xmin, xmax = 2*10**6 ,6.5*10**6\n",
        "ymin, ymax = 1*10**6, 6*10**6\n",
        "plt.xlim([xmin, xmax])\n",
        "plt.ylim([ymin, ymax])\n",
        "plt.show()"
      ],
      "metadata": {
        "colab": {
          "base_uri": "https://localhost:8080/",
          "height": 787
        },
        "id": "uip2S91RKC-T",
        "outputId": "8df3f2dd-a295-4442-da71-d52886f3c895"
      },
      "execution_count": null,
      "outputs": [
        {
          "output_type": "display_data",
          "data": {
            "text/plain": [
              "<Figure size 1600x900 with 2 Axes>"
            ],
            "image/png": "[encoded data removed]"
          },
          "metadata": {}
        }
      ]
    },
    {
      "cell_type": "code",
      "source": [
        "# LIST of RANDOM EFFECTS/MEAN PERFORMANCE\n",
        "res_gpd[\"re_fixed\"] = np.abs(res_gpd[\"random_effect\"]/res_gpd[\"fixed_effect\"])"
      ],
      "metadata": {
        "id": "v9jYmt5Lvwl-"
      },
      "execution_count": null,
      "outputs": []
    },
    {
      "cell_type": "code",
      "source": [
        "res_gpd_online = res_gpd.loc[res_gpd.dataset == \"online\",:]\n",
        "res_gpd_riurban = res_gpd.loc[res_gpd.dataset == \"riurban\",:]\n",
        "res_gpd_ebas= res_gpd.loc[res_gpd.dataset == \"ebas\",:]"
      ],
      "metadata": {
        "id": "tiq2viC8v5Jt"
      },
      "execution_count": null,
      "outputs": []
    },
    {
      "cell_type": "code",
      "source": [
        "ax = europe.plot(figsize=(16,9))\n",
        "res_gpd_online.to_crs(\"epsg:3035\").plot(ax = ax,\n",
        "                                    column = res_gpd_online[\"random_effect\"],\n",
        "                                    cmap='plasma', legend=True)\n",
        "plt.title(\"Online\")\n",
        "xmin, xmax = 2*10**6 ,6.5*10**6\n",
        "ymin, ymax = 1*10**6, 6*10**6\n",
        "plt.xlim([xmin, xmax])\n",
        "plt.ylim([ymin, ymax])\n",
        "plt.show()\n",
        "\n",
        "res_gpd_online.sort_values(by = \"re_fixed\", ascending = False)[[\"station\", \"station_id\",\"random_effect\",\"re_fixed\"]].drop_duplicates()"
      ],
      "metadata": {
        "id": "qN8VkcWZwKIi"
      },
      "execution_count": null,
      "outputs": []
    },
    {
      "cell_type": "code",
      "source": [
        "ax = europe.plot(figsize=(16,9))\n",
        "res_gpd_riurban.to_crs(\"epsg:3035\").plot(ax = ax,\n",
        "                                    column = res_gpd_riurban[\"random_effect\"],\n",
        "                                    cmap='plasma', legend=True)\n",
        "plt.title(\"Riurban\")\n",
        "xmin, xmax = 2*10**6 ,6.5*10**6\n",
        "ymin, ymax = 1*10**6, 6*10**6\n",
        "plt.xlim([xmin, xmax])\n",
        "plt.ylim([ymin, ymax])\n",
        "plt.show()\n",
        "res_gpd_riurban.sort_values(by = \"abs_re\", ascending = False)[[\"station\", \"station_id\",\"random_effect\",\"abs_re\"]].drop_duplicates()"
      ],
      "metadata": {
        "id": "5dmt4jJGwYc9"
      },
      "execution_count": null,
      "outputs": []
    },
    {
      "cell_type": "code",
      "source": [
        "ax = europe.plot(figsize=(16,9))\n",
        "res_gpd_ebas.to_crs(\"epsg:3035\").plot(ax = ax,\n",
        "                                    column = res_gpd_ebas[\"random_effect\"],\n",
        "                                    cmap='plasma', legend=True)\n",
        "plt.title(\"Ebas\")\n",
        "xmin, xmax = 2*10**6 ,6.5*10**6\n",
        "ymin, ymax = 1*10**6, 6*10**6\n",
        "plt.xlim([xmin, xmax])\n",
        "plt.ylim([ymin, ymax])\n",
        "plt.show()\n",
        "res_gpd_ebas.sort_values(by=\"abs_re\",ascending = False)[[\"station\",\"station_id\",\"random_effect\",\"abs_re\"]].drop_duplicates()[:10]"
      ],
      "metadata": {
        "id": "Uq4oHi9GwY88"
      },
      "execution_count": null,
      "outputs": []
    },
    {
      "cell_type": "code",
      "source": [
        "# distribution of random effects\n",
        "plt.hist(res_gpd.random_effect)"
      ],
      "metadata": {
        "id": "WFB4vsTo04Wd"
      },
      "execution_count": null,
      "outputs": []
    }
  ]
}