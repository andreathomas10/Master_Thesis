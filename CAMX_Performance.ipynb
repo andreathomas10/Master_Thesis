{
  "cells": [
    {
      "cell_type": "markdown",
      "metadata": {
        "id": "rd0FawZ6PZdL"
      },
      "source": [
        "# Analysis of CAMX Performance\n",
        "### Code to reproduce content in Chapter 2"
      ]
    },
    {
      "cell_type": "code",
      "execution_count": null,
      "metadata": {
        "id": "DlAqiCOzPZdM"
      },
      "outputs": [],
      "source": [
        "# load packages\n",
        "import warnings\n",
        "warnings.filterwarnings(\"ignore\")\n",
        "import pandas as pd\n",
        "import numpy as np\n",
        "import matplotlib.pyplot as plt\n",
        "import seaborn as sns\n",
        "from sklearn.metrics import r2_score, mean_absolute_percentage_error as mape, mean_squared_error as mse\n",
        "from pyarrow import feather as pq\n",
        "import geopandas as gpd\n",
        "import folium\n",
        "from folium import Marker\n",
        "from shapely import geometry\n",
        "from tqdm import tqdm\n",
        "pd.set_option('display.max_columns', None)\n",
        "from ipywidgets import interact\n",
        "import seaborn as sns"
      ]
    },
    {
      "cell_type": "code",
      "execution_count": null,
      "metadata": {
        "id": "CkkfV4p8PZdO"
      },
      "outputs": [],
      "source": [
        "# mount drive\n",
        "from google.colab import drive\n",
        "drive.mount(\"/content/gdrive\")\n",
        "# load data\n",
        "data = pd.read_csv(\"/content/gdrive/MyDrive/Aurora_Thesis/data_converted.csv\")\n",
        "data.time = pd.to_datetime(data.time)\n",
        "data = data.reset_index()\n",
        "# make it geodataframe\n",
        "data_gdf = gpd.GeoDataFrame(data, geometry= gpd.points_from_xy(x = data.Lon, y =  data.Lat), crs = 4326)\n",
        "\n",
        "# load europe map\n",
        "path2 = \"/content/gdrive/MyDrive/Aurora_Thesis/NUTS_RG_20M_2021_3035.shp\"\n",
        "europe = gpd.read_file(path2)\n",
        "# Look at Coordinate Reference System (CRS)\n",
        "print(europe.crs)\n",
        "# Select Level Code\n",
        "europe = europe.loc[europe.LEVL_CODE == 1,:]\n",
        "# Remove remore French island\n",
        "europe = europe.loc[europe.NAME_LATN != \"RUP FR — Régions Ultrapériphériques Françaises\",:]"
      ]
    },
    {
      "cell_type": "code",
      "execution_count": null,
      "metadata": {
        "id": "k_Dumwm1PZdQ"
      },
      "outputs": [],
      "source": [
        "# CLEAN DATA\n",
        "# remove OA with less than 0.1\n",
        "data= data.loc[data.OAtot_PMF >= 0.1, :]\n",
        "# and stations with less than 30 obs.\n",
        "select = (data.groupby(\"station_id\")[\"OAtot_PMF\"].size() > 30).reset_index()\n",
        "data = data.set_index(\"station_id\")\n",
        "data = data.join(select.set_index(\"station_id\"), rsuffix = \"keep\")\n",
        "data = data.loc[ data.OAtot_PMFkeep == True, :]\n",
        "data = data.reset_index()\n",
        "# switch London data\n",
        "data[\"OAtot_2\"] = data.HOA_PMF + data.BBOA_PMF + data.OOAtot_PMF\n",
        "data.loc[data.station == \"London\",\"OAtot_PMF\"] = data.loc[data.station == \"London\",\"OAtot_2\"]\n",
        "# Remove Zurich 2017\n",
        "data = data.loc[(data.station != \"Zurich\") | (data.year != 2017),:]"
      ]
    },
    {
      "cell_type": "code",
      "execution_count": null,
      "metadata": {
        "id": "gwYd9q5nPZdQ"
      },
      "outputs": [],
      "source": [
        "# define MAPE with + 1 in denominator\n",
        "def my_mape(Y_true, Y_pred):\n",
        "    loss = (np.abs( (Y_true - Y_pred)/(Y_true + 1))).mean()\n",
        "    return loss"
      ]
    },
    {
      "cell_type": "code",
      "execution_count": null,
      "metadata": {
        "id": "y1BKNNkCPZdR"
      },
      "outputs": [],
      "source": [
        "# define metrics of interest\n",
        "metric = my_mape\n",
        "\n",
        "# group by station and compute performance\n",
        "station_perf = data.groupby([\"station_id\"])[[\"OAtot_PMF\",\"OAtot_CAMX\"]].apply(lambda x: metric(x.iloc[:,0], x.iloc[:,1])).reset_index()\n",
        "station_perf = station_perf.rename(columns={0:\"score\"})\n",
        "station_perf.head()"
      ]
    },
    {
      "cell_type": "code",
      "execution_count": null,
      "metadata": {
        "id": "3UpDZMYUPZdR"
      },
      "outputs": [],
      "source": [
        "# join with data on station_id\n",
        "data_gdf = data_gdf.set_index(\"station_id\").join(station_perf.set_index(\"station_id\"))"
      ]
    },
    {
      "cell_type": "code",
      "execution_count": null,
      "metadata": {
        "id": "2ECtrQOxPZdS"
      },
      "outputs": [],
      "source": [
        "data_gdf.head()"
      ]
    },
    {
      "cell_type": "code",
      "execution_count": null,
      "metadata": {
        "id": "wgyxH4_NPZdS"
      },
      "outputs": [],
      "source": [
        "# group by station and compute number of data points\n",
        "station_size = data.groupby([\"station_id\"])[\"OAtot_PMF\"].size().reset_index()\n",
        "station_size = station_size.rename(columns={\"OAtot_PMF\":\"size\"})\n",
        "station_size.head()"
      ]
    },
    {
      "cell_type": "code",
      "execution_count": null,
      "metadata": {
        "id": "iJvDpy56PZdS"
      },
      "outputs": [],
      "source": [
        "# join with data on station_id\n",
        "data_gdf = data_gdf.join(station_size.set_index(\"station_id\"))\n",
        "data_gdf = data_gdf.reset_index()"
      ]
    },
    {
      "cell_type": "code",
      "execution_count": null,
      "metadata": {
        "id": "dlGfLLbRPZdT"
      },
      "outputs": [],
      "source": [
        "(data_gdf[\"score\"].isnull() == False).sum()"
      ]
    },
    {
      "cell_type": "code",
      "execution_count": null,
      "metadata": {
        "id": "O5_frKnrPZdT"
      },
      "outputs": [],
      "source": [
        "# separate datasets\n",
        "online = data_gdf.loc[data_gdf.dataset == \"online\",:]\n",
        "riurban = data_gdf.loc[data_gdf.dataset == \"riurban\",:]\n",
        "ebas = data_gdf.loc[data_gdf.dataset == \"ebas\",:]"
      ]
    },
    {
      "cell_type": "code",
      "execution_count": null,
      "metadata": {
        "id": "2HU1Oo7SPZdU"
      },
      "outputs": [],
      "source": [
        "# plot station performance on Europe Map\n",
        "def plot_performance(dataset_name, zoom, annotate):\n",
        "    sns.set_style(\"whitegrid\")\n",
        "    if dataset_name == \"full\":\n",
        "        dataset = data_gdf\n",
        "    else:\n",
        "        dataset = data_gdf.loc[data_gdf.dataset == dataset_name,:]\n",
        "    #sns.set_theme(\"whitegrid\")\n",
        "    ax = europe.plot(figsize=(16,9))\n",
        "    # If Zoom\n",
        "    if zoom:\n",
        "        # To zoom in into map\n",
        "        xmin, xmax = 2*10**6 ,6.5*10**6\n",
        "        ymin, ymax = 1*10**6, 6*10**6\n",
        "        plt.xlim([xmin, xmax])\n",
        "        plt.ylim([ymin, ymax])\n",
        "\n",
        "    dataset.to_crs(\"epsg:3035\").plot(ax = ax,\n",
        "                                    markersize=dataset['size']/5,\n",
        "                                    column = dataset['score'],\n",
        "                                    cmap='plasma', legend=True, vmin = data_gdf.score.min(), vmax = data_gdf.score.max())\n",
        "    plt.title(dataset_name + \" dataset\", fontsize = 24)\n",
        "\n",
        "\n",
        "    # If annotate = True, then show station name on map\n",
        "    if annotate:\n",
        "        for x, y, label in zip(dataset.to_crs(\"epsg:3035\").geometry.x, dataset.to_crs(\"epsg:3035\").geometry.y, dataset['station']):\n",
        "            plt.annotate(label, xy=(x, y), xytext=(3, 3), textcoords=\"offset points\")\n",
        "    plt.show()"
      ]
    },
    {
      "cell_type": "code",
      "execution_count": null,
      "metadata": {
        "id": "Qv6sRjNAPZdV"
      },
      "outputs": [],
      "source": [
        "# Function to plot each dataset separately and choose performance metric!\n",
        "interact(plot_performance, dataset_name = [\"online\",\"riurban\",\"ebas\",\"full\"], zoom = [False,True], annotate = [False,True])"
      ]
    },
    {
      "cell_type": "code",
      "execution_count": null,
      "metadata": {
        "id": "fwlu61EIPZdV"
      },
      "outputs": [],
      "source": [
        "# PLOT PERFORMANCE IN MODELING RELATIVE CHANGE"
      ]
    },
    {
      "cell_type": "code",
      "execution_count": null,
      "metadata": {
        "id": "rLN_qFiuPZdV"
      },
      "outputs": [],
      "source": [
        "# sort by time\n",
        "data = data.sort_values(by = \"time\")\n",
        "# get relative change as alternative response:\n",
        "data_grouped = data.groupby(\"station_id\")\n",
        "\n",
        "def get_relative(group):\n",
        "    series_values = group['OAtot_PMF']\n",
        "    rate_of_change = (np.array(series_values.iloc[1:]) - np.array(series_values.iloc[:-1])) / np.array(series_values.iloc[:-1])  # Compute the difference between successive measurements\n",
        "    # TO DO: replace zeros with NANs\n",
        "    group['rate_of_change_obs'] = np.full(len(series_values), np.nan)\n",
        "    group['rate_of_change_obs'].iloc[1:] = rate_of_change\n",
        "    return group\n",
        "\n",
        "# Concatenate the individual groups back into a single DataFrame\n",
        "df_obs = pd.concat([get_relative(group) for _, group in data_grouped])\n",
        "data_grouped = df_obs.groupby(\"station_id\")\n",
        "\n",
        "def get_relative2(group):\n",
        "    series_values = group['OAtot_CAMX']\n",
        "    rate_of_change = (np.array(series_values.iloc[1:]) - np.array(series_values.iloc[:-1])) / np.array(series_values.iloc[:-1])  # Compute the difference between successive measurements\n",
        "    group['rate_of_change_CAMX'] = np.full(len(series_values), np.nan)\n",
        "    group['rate_of_change_CAMX'].iloc[1:] = rate_of_change\n",
        "    return group\n",
        "\n",
        "data = pd.concat([get_relative2(group) for _, group in data_grouped])\n",
        "# last two columns of data have now the desired relative changes\n",
        "data.loc[: , [\"rate_of_change_obs\", \"rate_of_change_CAMX\"]].head()"
      ]
    },
    {
      "cell_type": "code",
      "execution_count": null,
      "metadata": {
        "id": "Yvyy3DjTPZdW"
      },
      "outputs": [],
      "source": [
        "# define metrics of interest\n",
        "metric = my_mape\n",
        "\n",
        "# group by station and compute performance\n",
        "station_perf = data.groupby([\"station_id\"])[[\"rate_of_change_obs\",\"rate_of_change_CAMX\"]].apply(lambda x: metric(x.iloc[:,0], x.iloc[:,1])).reset_index()\n",
        "station_perf = station_perf.rename(columns={0:\"score_rel\"})\n",
        "# join with data on station_id\n",
        "data_gdf = data_gdf.set_index(\"station_id\").join(station_perf.set_index(\"station_id\"))"
      ]
    },
    {
      "cell_type": "code",
      "execution_count": null,
      "metadata": {
        "id": "9_M84I6gPZdX",
        "outputId": "e9f457b6-a0aa-465b-b00a-b79c230f32ce"
      },
      "outputs": [
        {
          "data": {
            "text/plain": [
              "103277"
            ]
          },
          "execution_count": 56,
          "metadata": {},
          "output_type": "execute_result"
        }
      ],
      "source": [
        "(data_gdf[\"score_rel\"].isnull()==False).sum()"
      ]
    },
    {
      "cell_type": "code",
      "execution_count": null,
      "metadata": {
        "id": "OYPM3OPlPZdY"
      },
      "outputs": [],
      "source": [
        "# plot station performance on Europe Map (NOW WITH RELATIVE PERFORMANCE)\n",
        "def plot_performance(dataset_name, zoom, annotate):\n",
        "    if dataset_name == \"full\":\n",
        "        dataset = data_gdf\n",
        "    else:\n",
        "        dataset = data_gdf.loc[data_gdf.dataset == dataset_name,:]\n",
        "    sns.set_style(\"whitegrid\")\n",
        "    ax = europe.plot(figsize=(16,9))\n",
        "    # If Zoom\n",
        "    if zoom:\n",
        "        # To zoom in into map\n",
        "        xmin, xmax = 2*10**6 ,6.5*10**6\n",
        "        ymin, ymax = 1*10**6, 6*10**6\n",
        "        plt.xlim([xmin, xmax])\n",
        "        plt.ylim([ymin, ymax])\n",
        "\n",
        "    dataset.to_crs(\"epsg:3035\").plot(ax = ax,\n",
        "                                    markersize=dataset['size']/5,\n",
        "                                    column = dataset['score_rel'],\n",
        "                                    cmap='plasma', legend=True, vmin = data_gdf.score_rel.min(), vmax = data_gdf.score_rel.max())\n",
        "    plt.title(dataset_name + \" dataset\")\n",
        "\n",
        "\n",
        "    # If annotate\n",
        "    if annotate:\n",
        "        for x, y, label in zip(dataset.to_crs(\"epsg:3035\").geometry.x, dataset.to_crs(\"epsg:3035\").geometry.y, dataset['station']):\n",
        "            plt.annotate(label, xy=(x, y), xytext=(3, 3), textcoords=\"offset points\")\n",
        "    plt.show()"
      ]
    },
    {
      "cell_type": "code",
      "execution_count": null,
      "metadata": {
        "colab": {
          "referenced_widgets": [
            "55158288ea684a3f8a1221e62c819214"
          ]
        },
        "id": "kC4nQ53GPZdY",
        "outputId": "d78cb4cc-4f1b-4c81-ad18-d3bb6b9b4156"
      },
      "outputs": [
        {
          "data": {
            "application/vnd.jupyter.widget-view+json": {
              "model_id": "55158288ea684a3f8a1221e62c819214",
              "version_major": 2,
              "version_minor": 0
            },
            "text/plain": [
              "interactive(children=(Dropdown(description='dataset_name', options=('online', 'riurban', 'ebas', 'full'), valu…"
            ]
          },
          "metadata": {},
          "output_type": "display_data"
        },
        {
          "data": {
            "text/plain": [
              "<function __main__.plot_performance(dataset_name, zoom, annotate)>"
            ]
          },
          "execution_count": 59,
          "metadata": {},
          "output_type": "execute_result"
        }
      ],
      "source": [
        "interact(plot_performance, dataset_name = [\"online\",\"riurban\",\"ebas\",\"full\"], zoom = [False,True], annotate = [False,True])"
      ]
    },
    {
      "cell_type": "code",
      "execution_count": null,
      "metadata": {
        "id": "2brIFGXwPZdY"
      },
      "outputs": [],
      "source": [
        "# compute score per station\n",
        "scores_mape = data.groupby([\"station_id\"])[[\"OAtot_PMF\",\"OAtot_CAMX\"]].apply(lambda x: np.round(my_mape(x.iloc[:,0], x.iloc[:,1]),2)).reset_index()\n",
        "scores_rmse = data.groupby([\"station_id\"])[[\"OAtot_PMF\",\"OAtot_CAMX\"]].apply(lambda x: np.round(mse(x.iloc[:,0], x.iloc[:,1], squared = False),2)).reset_index()\n",
        "scores_bias = data.groupby([\"station_id\"])[[\"OAtot_PMF\",\"OAtot_CAMX\"]].apply(lambda x: np.round(np.mean(x.iloc[:,0] - x.iloc[:,1]),2)).reset_index()"
      ]
    },
    {
      "cell_type": "code",
      "execution_count": null,
      "metadata": {
        "id": "Ia2FF_04PZdZ"
      },
      "outputs": [],
      "source": [
        "# set names\n",
        "scores_mape = scores_mape.rename(columns = {0:\"Mape\"})\n",
        "scores_rmse = scores_rmse.rename(columns = {0:\"RMSE\"})\n",
        "scores_bias = scores_bias.rename(columns = {0:\"Bias\"})"
      ]
    },
    {
      "cell_type": "code",
      "execution_count": null,
      "metadata": {
        "id": "7q2ph9vGPZdZ"
      },
      "outputs": [],
      "source": [
        "# get station names\n",
        "station_names = data.groupby([\"station_id\"])[\"station\"].apply(lambda x: x.unique()[0]).reset_index()\n",
        "# station dataset\n",
        "station_dataset =data.groupby([\"station_id\"])[\"dataset\"].apply(lambda x: x.unique()[0]).reset_index()"
      ]
    },
    {
      "cell_type": "code",
      "execution_count": null,
      "metadata": {
        "id": "m7wRjaM8PZdZ"
      },
      "outputs": [],
      "source": [
        "# join on station_id\n",
        "scores = scores_mape.set_index(\"station_id\").join(station_names.set_index(\"station_id\"))"
      ]
    },
    {
      "cell_type": "code",
      "execution_count": null,
      "metadata": {
        "id": "QPGyb4KFPZda"
      },
      "outputs": [],
      "source": [
        "# join for dataset\n",
        "scores = scores.join(station_dataset.set_index(\"station_id\"))"
      ]
    },
    {
      "cell_type": "code",
      "execution_count": null,
      "metadata": {
        "id": "rNRjSTfPPZda"
      },
      "outputs": [],
      "source": [
        "# join other scores\n",
        "scores = scores.join(scores_rmse.set_index(\"station_id\"))\n",
        "scores = scores.join(scores_bias.set_index(\"station_id\"))\n",
        "scores = scores.reset_index()"
      ]
    },
    {
      "cell_type": "code",
      "execution_count": null,
      "metadata": {
        "id": "mNMqciEKPZda"
      },
      "outputs": [],
      "source": [
        "# order columns\n",
        "scores = scores[[\"station\",\"station_id\",\"Mape\",\"Bias\",\"RMSE\",\"dataset\"]]"
      ]
    },
    {
      "cell_type": "code",
      "source": [
        "scores = scores.sort_values(by = \"station\")"
      ],
      "metadata": {
        "id": "tultfJpjQoNy"
      },
      "execution_count": null,
      "outputs": []
    },
    {
      "cell_type": "code",
      "execution_count": null,
      "metadata": {
        "id": "vSBPGVD5PZda"
      },
      "outputs": [],
      "source": [
        "# get top 10 and worse 10\n",
        "top10_mape = scores.sort_values(by = \"Mape\", ascending=True)[:10]\n",
        "worse10_mape = scores.sort_values(by = \"Mape\", ascending=True)[-10:]"
      ]
    },
    {
      "cell_type": "code",
      "execution_count": null,
      "metadata": {
        "id": "beV_hIfXPZdb"
      },
      "outputs": [],
      "source": [
        "# save to csv\n",
        "scores.to_csv(\"mape_stations.csv\",index=False)\n",
        "top10_mape.to_csv(\"top10_mape.csv\",index=False)\n",
        "worse10_mape.to_csv(\"worse10_mape.csv\",index=False)"
      ]
    },
    {
      "cell_type": "code",
      "execution_count": null,
      "metadata": {
        "id": "5Qd6EVf6PZdc"
      },
      "outputs": [],
      "source": [
        "# time series of yearly/monthly performance aggregated by station\n",
        "year_perf = data.groupby([\"station\",\"year\"])[\"OAtot_PMF\",\"OAtot_CAMX\"].apply(lambda x: my_mape(x.iloc[:,0], x.iloc[:,1])).reset_index()\n",
        "year_perf = year_perf.rename(columns = {0: \"Mape\"})\n",
        "\n",
        "month_perf = data.groupby([\"station\", \"month\"])[\"OAtot_PMF\",\"OAtot_CAMX\"].apply(lambda x: my_mape(x.iloc[:,0], x.iloc[:,1])).reset_index()\n",
        "month_perf = month_perf.rename(columns = {0: \"Mape\"})"
      ]
    },
    {
      "cell_type": "code",
      "execution_count": null,
      "metadata": {
        "id": "JDIvbaxiPZdc"
      },
      "outputs": [],
      "source": [
        "# SAME BUT FOR RELATIVE\n",
        "# time series of yearly/monthly performance aggregated by station\n",
        "year_perf = data.groupby([\"station\",\"year\"])[\"rate_of_change_obs\",\"rate_of_change_CAMX\"].apply(lambda x: my_mape(x.iloc[:,0], x.iloc[:,1])).reset_index()\n",
        "year_perf = year_perf.rename(columns = {0: \"Mape\"})\n",
        "\n",
        "month_perf = data.groupby([\"station\", \"month\"])[\"rate_of_change_obs\",\"rate_of_change_CAMX\"].apply(lambda x: my_mape(x.iloc[:,0], x.iloc[:,1])).reset_index()\n",
        "month_perf = month_perf.rename(columns = {0: \"Mape\"})"
      ]
    },
    {
      "cell_type": "code",
      "execution_count": null,
      "metadata": {
        "id": "NiIuMye5PZdc"
      },
      "outputs": [],
      "source": [
        "# Boxplot\n",
        "plt.boxplot( [year_perf.loc[year_perf.year == 2011,\"Mape\"],year_perf.loc[year_perf.year == 2013,\"Mape\"],\n",
        "year_perf.loc[year_perf.year == 2015,\"Mape\"], year_perf.loc[year_perf.year == 2017,\"Mape\"],\n",
        "year_perf.loc[year_perf.year == 2019,\"Mape\"]],\n",
        "labels=['2011', '2013', '2015', \"2017\",\"2019\"],\n",
        "notch=False, patch_artist=True, boxprops={'facecolor': 'skyblue', 'linewidth': 2},\n",
        "medianprops={'color': 'red', 'linewidth': 2},\n",
        "flierprops={'marker': 'o', 'markerfacecolor': 'black', 'markersize': 5})\n",
        "plt.ylabel(\"Mape\")"
      ]
    },
    {
      "cell_type": "code",
      "execution_count": null,
      "metadata": {
        "id": "7S4DINlKPZdd"
      },
      "outputs": [],
      "source": [
        "# Using seaborn\n",
        "sns.set_style(\"whitegrid\")\n",
        "plt.figure(figsize=(16,9))\n",
        "sns.boxplot(year_perf, x=\"year\", y=\"Mape\", color = \"skyblue\",\n",
        "width=0.5, linewidth=2, notch=False, fliersize=5,\n",
        "whiskerprops={'color': 'black'},\n",
        "capprops={'color': 'black'}, medianprops={'color': 'red'},\n",
        "flierprops={'markerfacecolor': 'black', 'marker': 'o', 'markeredgecolor': 'black'})\n",
        "plt.xlabel(\"Year\", fontsize = 18)\n",
        "plt.ylabel(\"Mape\", fontsize = 18)\n",
        "plt.xticks(fontsize = 18)\n",
        "plt.yticks(fontsize = 18)"
      ]
    },
    {
      "cell_type": "code",
      "execution_count": null,
      "metadata": {
        "id": "uMZ2vE80PZde"
      },
      "outputs": [],
      "source": [
        "# Using seaborn\n",
        "plt.figure(figsize=(16,9))\n",
        "sns.set_style(\"whitegrid\")\n",
        "sns.boxplot(month_perf, x=\"month\", y=\"Mape\", color = \"skyblue\",\n",
        "width=0.5, linewidth=2, notch=False, fliersize=5,\n",
        "whiskerprops={'color': 'black'},\n",
        "capprops={'color': 'black'}, medianprops={'color': 'red'},\n",
        "flierprops={'markerfacecolor': 'black', 'marker': 'o', 'markeredgecolor': 'black'})\n",
        "plt.xlabel(\"Month\", fontsize = 18)\n",
        "plt.ylabel(\"Mape\", fontsize = 18)\n",
        "plt.xticks(fontsize = 18)\n",
        "plt.yticks(fontsize = 18)"
      ]
    }
  ],
  "metadata": {
    "kernelspec": {
      "display_name": "IML",
      "language": "python",
      "name": "python3"
    },
    "language_info": {
      "codemirror_mode": {
        "name": "ipython",
        "version": 3
      },
      "file_extension": ".py",
      "mimetype": "text/x-python",
      "name": "python",
      "nbconvert_exporter": "python",
      "pygments_lexer": "ipython3",
      "version": "3.8.12"
    },
    "orig_nbformat": 4,
    "colab": {
      "provenance": []
    },
    "widgets": {
      "application/vnd.jupyter.widget-state+json": {}
    }
  },
  "nbformat": 4,
  "nbformat_minor": 0
}